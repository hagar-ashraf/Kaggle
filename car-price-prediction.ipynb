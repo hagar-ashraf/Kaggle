{
 "cells": [
  {
   "cell_type": "markdown",
   "id": "7198b9be",
   "metadata": {
    "papermill": {
     "duration": 0.013325,
     "end_time": "2022-07-04T16:20:15.389790",
     "exception": false,
     "start_time": "2022-07-04T16:20:15.376465",
     "status": "completed"
    },
    "tags": []
   },
   "source": [
    "<h2>Importing libraries</h2>"
   ]
  },
  {
   "cell_type": "code",
   "execution_count": 1,
   "id": "feebfe11",
   "metadata": {
    "execution": {
     "iopub.execute_input": "2022-07-04T16:20:15.414749Z",
     "iopub.status.busy": "2022-07-04T16:20:15.414046Z",
     "iopub.status.idle": "2022-07-04T16:20:16.576612Z",
     "shell.execute_reply": "2022-07-04T16:20:16.575422Z"
    },
    "papermill": {
     "duration": 1.178498,
     "end_time": "2022-07-04T16:20:16.579705",
     "exception": false,
     "start_time": "2022-07-04T16:20:15.401207",
     "status": "completed"
    },
    "tags": []
   },
   "outputs": [],
   "source": [
    "import pandas as pd\n",
    "import matplotlib.pyplot as plt\n",
    "from sklearn.linear_model import LinearRegression"
   ]
  },
  {
   "cell_type": "markdown",
   "id": "5066f42a",
   "metadata": {
    "papermill": {
     "duration": 0.011038,
     "end_time": "2022-07-04T16:20:16.602157",
     "exception": false,
     "start_time": "2022-07-04T16:20:16.591119",
     "status": "completed"
    },
    "tags": []
   },
   "source": [
    "<h2>Data Collection and Processing</h2>"
   ]
  },
  {
   "cell_type": "code",
   "execution_count": 2,
   "id": "432b6742",
   "metadata": {
    "execution": {
     "iopub.execute_input": "2022-07-04T16:20:16.626919Z",
     "iopub.status.busy": "2022-07-04T16:20:16.626169Z",
     "iopub.status.idle": "2022-07-04T16:20:16.644785Z",
     "shell.execute_reply": "2022-07-04T16:20:16.643951Z"
    },
    "papermill": {
     "duration": 0.034052,
     "end_time": "2022-07-04T16:20:16.647452",
     "exception": false,
     "start_time": "2022-07-04T16:20:16.613400",
     "status": "completed"
    },
    "tags": []
   },
   "outputs": [],
   "source": [
    "#Load the dataset into a pandas dataframe\n",
    "car_dataset = pd.read_csv('../input/vehicle-dataset-from-cardekho/car data.csv')"
   ]
  },
  {
   "cell_type": "code",
   "execution_count": 3,
   "id": "324f802c",
   "metadata": {
    "execution": {
     "iopub.execute_input": "2022-07-04T16:20:16.673136Z",
     "iopub.status.busy": "2022-07-04T16:20:16.672378Z",
     "iopub.status.idle": "2022-07-04T16:20:16.701195Z",
     "shell.execute_reply": "2022-07-04T16:20:16.699979Z"
    },
    "papermill": {
     "duration": 0.045071,
     "end_time": "2022-07-04T16:20:16.703991",
     "exception": false,
     "start_time": "2022-07-04T16:20:16.658920",
     "status": "completed"
    },
    "tags": []
   },
   "outputs": [
    {
     "data": {
      "text/html": [
       "<div>\n",
       "<style scoped>\n",
       "    .dataframe tbody tr th:only-of-type {\n",
       "        vertical-align: middle;\n",
       "    }\n",
       "\n",
       "    .dataframe tbody tr th {\n",
       "        vertical-align: top;\n",
       "    }\n",
       "\n",
       "    .dataframe thead th {\n",
       "        text-align: right;\n",
       "    }\n",
       "</style>\n",
       "<table border=\"1\" class=\"dataframe\">\n",
       "  <thead>\n",
       "    <tr style=\"text-align: right;\">\n",
       "      <th></th>\n",
       "      <th>Car_Name</th>\n",
       "      <th>Year</th>\n",
       "      <th>Selling_Price</th>\n",
       "      <th>Present_Price</th>\n",
       "      <th>Kms_Driven</th>\n",
       "      <th>Fuel_Type</th>\n",
       "      <th>Seller_Type</th>\n",
       "      <th>Transmission</th>\n",
       "      <th>Owner</th>\n",
       "    </tr>\n",
       "  </thead>\n",
       "  <tbody>\n",
       "    <tr>\n",
       "      <th>0</th>\n",
       "      <td>ritz</td>\n",
       "      <td>2014</td>\n",
       "      <td>3.35</td>\n",
       "      <td>5.59</td>\n",
       "      <td>27000</td>\n",
       "      <td>Petrol</td>\n",
       "      <td>Dealer</td>\n",
       "      <td>Manual</td>\n",
       "      <td>0</td>\n",
       "    </tr>\n",
       "    <tr>\n",
       "      <th>1</th>\n",
       "      <td>sx4</td>\n",
       "      <td>2013</td>\n",
       "      <td>4.75</td>\n",
       "      <td>9.54</td>\n",
       "      <td>43000</td>\n",
       "      <td>Diesel</td>\n",
       "      <td>Dealer</td>\n",
       "      <td>Manual</td>\n",
       "      <td>0</td>\n",
       "    </tr>\n",
       "    <tr>\n",
       "      <th>2</th>\n",
       "      <td>ciaz</td>\n",
       "      <td>2017</td>\n",
       "      <td>7.25</td>\n",
       "      <td>9.85</td>\n",
       "      <td>6900</td>\n",
       "      <td>Petrol</td>\n",
       "      <td>Dealer</td>\n",
       "      <td>Manual</td>\n",
       "      <td>0</td>\n",
       "    </tr>\n",
       "    <tr>\n",
       "      <th>3</th>\n",
       "      <td>wagon r</td>\n",
       "      <td>2011</td>\n",
       "      <td>2.85</td>\n",
       "      <td>4.15</td>\n",
       "      <td>5200</td>\n",
       "      <td>Petrol</td>\n",
       "      <td>Dealer</td>\n",
       "      <td>Manual</td>\n",
       "      <td>0</td>\n",
       "    </tr>\n",
       "    <tr>\n",
       "      <th>4</th>\n",
       "      <td>swift</td>\n",
       "      <td>2014</td>\n",
       "      <td>4.60</td>\n",
       "      <td>6.87</td>\n",
       "      <td>42450</td>\n",
       "      <td>Diesel</td>\n",
       "      <td>Dealer</td>\n",
       "      <td>Manual</td>\n",
       "      <td>0</td>\n",
       "    </tr>\n",
       "    <tr>\n",
       "      <th>5</th>\n",
       "      <td>vitara brezza</td>\n",
       "      <td>2018</td>\n",
       "      <td>9.25</td>\n",
       "      <td>9.83</td>\n",
       "      <td>2071</td>\n",
       "      <td>Diesel</td>\n",
       "      <td>Dealer</td>\n",
       "      <td>Manual</td>\n",
       "      <td>0</td>\n",
       "    </tr>\n",
       "    <tr>\n",
       "      <th>6</th>\n",
       "      <td>ciaz</td>\n",
       "      <td>2015</td>\n",
       "      <td>6.75</td>\n",
       "      <td>8.12</td>\n",
       "      <td>18796</td>\n",
       "      <td>Petrol</td>\n",
       "      <td>Dealer</td>\n",
       "      <td>Manual</td>\n",
       "      <td>0</td>\n",
       "    </tr>\n",
       "    <tr>\n",
       "      <th>7</th>\n",
       "      <td>s cross</td>\n",
       "      <td>2015</td>\n",
       "      <td>6.50</td>\n",
       "      <td>8.61</td>\n",
       "      <td>33429</td>\n",
       "      <td>Diesel</td>\n",
       "      <td>Dealer</td>\n",
       "      <td>Manual</td>\n",
       "      <td>0</td>\n",
       "    </tr>\n",
       "    <tr>\n",
       "      <th>8</th>\n",
       "      <td>ciaz</td>\n",
       "      <td>2016</td>\n",
       "      <td>8.75</td>\n",
       "      <td>8.89</td>\n",
       "      <td>20273</td>\n",
       "      <td>Diesel</td>\n",
       "      <td>Dealer</td>\n",
       "      <td>Manual</td>\n",
       "      <td>0</td>\n",
       "    </tr>\n",
       "    <tr>\n",
       "      <th>9</th>\n",
       "      <td>ciaz</td>\n",
       "      <td>2015</td>\n",
       "      <td>7.45</td>\n",
       "      <td>8.92</td>\n",
       "      <td>42367</td>\n",
       "      <td>Diesel</td>\n",
       "      <td>Dealer</td>\n",
       "      <td>Manual</td>\n",
       "      <td>0</td>\n",
       "    </tr>\n",
       "  </tbody>\n",
       "</table>\n",
       "</div>"
      ],
      "text/plain": [
       "        Car_Name  Year  Selling_Price  Present_Price  Kms_Driven Fuel_Type  \\\n",
       "0           ritz  2014           3.35           5.59       27000    Petrol   \n",
       "1            sx4  2013           4.75           9.54       43000    Diesel   \n",
       "2           ciaz  2017           7.25           9.85        6900    Petrol   \n",
       "3        wagon r  2011           2.85           4.15        5200    Petrol   \n",
       "4          swift  2014           4.60           6.87       42450    Diesel   \n",
       "5  vitara brezza  2018           9.25           9.83        2071    Diesel   \n",
       "6           ciaz  2015           6.75           8.12       18796    Petrol   \n",
       "7        s cross  2015           6.50           8.61       33429    Diesel   \n",
       "8           ciaz  2016           8.75           8.89       20273    Diesel   \n",
       "9           ciaz  2015           7.45           8.92       42367    Diesel   \n",
       "\n",
       "  Seller_Type Transmission  Owner  \n",
       "0      Dealer       Manual      0  \n",
       "1      Dealer       Manual      0  \n",
       "2      Dealer       Manual      0  \n",
       "3      Dealer       Manual      0  \n",
       "4      Dealer       Manual      0  \n",
       "5      Dealer       Manual      0  \n",
       "6      Dealer       Manual      0  \n",
       "7      Dealer       Manual      0  \n",
       "8      Dealer       Manual      0  \n",
       "9      Dealer       Manual      0  "
      ]
     },
     "execution_count": 3,
     "metadata": {},
     "output_type": "execute_result"
    }
   ],
   "source": [
    "#showing the first 10 row of the dataframe\n",
    "car_dataset.head(10)"
   ]
  },
  {
   "cell_type": "code",
   "execution_count": 4,
   "id": "aa36d7ab",
   "metadata": {
    "execution": {
     "iopub.execute_input": "2022-07-04T16:20:16.730477Z",
     "iopub.status.busy": "2022-07-04T16:20:16.729823Z",
     "iopub.status.idle": "2022-07-04T16:20:16.736391Z",
     "shell.execute_reply": "2022-07-04T16:20:16.735343Z"
    },
    "papermill": {
     "duration": 0.022178,
     "end_time": "2022-07-04T16:20:16.738656",
     "exception": false,
     "start_time": "2022-07-04T16:20:16.716478",
     "status": "completed"
    },
    "tags": []
   },
   "outputs": [
    {
     "data": {
      "text/plain": [
       "301"
      ]
     },
     "execution_count": 4,
     "metadata": {},
     "output_type": "execute_result"
    }
   ],
   "source": [
    "#checking the number of rows\n",
    "car_dataset.shape[0]"
   ]
  },
  {
   "cell_type": "code",
   "execution_count": 5,
   "id": "fbbdf68d",
   "metadata": {
    "execution": {
     "iopub.execute_input": "2022-07-04T16:20:16.764579Z",
     "iopub.status.busy": "2022-07-04T16:20:16.763920Z",
     "iopub.status.idle": "2022-07-04T16:20:16.770484Z",
     "shell.execute_reply": "2022-07-04T16:20:16.769445Z"
    },
    "papermill": {
     "duration": 0.022219,
     "end_time": "2022-07-04T16:20:16.772557",
     "exception": false,
     "start_time": "2022-07-04T16:20:16.750338",
     "status": "completed"
    },
    "tags": []
   },
   "outputs": [
    {
     "data": {
      "text/plain": [
       "9"
      ]
     },
     "execution_count": 5,
     "metadata": {},
     "output_type": "execute_result"
    }
   ],
   "source": [
    "#checking the number of columns \n",
    "car_dataset.shape[1]"
   ]
  },
  {
   "cell_type": "code",
   "execution_count": 6,
   "id": "b1139f66",
   "metadata": {
    "execution": {
     "iopub.execute_input": "2022-07-04T16:20:16.799002Z",
     "iopub.status.busy": "2022-07-04T16:20:16.798384Z",
     "iopub.status.idle": "2022-07-04T16:20:16.821471Z",
     "shell.execute_reply": "2022-07-04T16:20:16.820029Z"
    },
    "papermill": {
     "duration": 0.039704,
     "end_time": "2022-07-04T16:20:16.824046",
     "exception": false,
     "start_time": "2022-07-04T16:20:16.784342",
     "status": "completed"
    },
    "tags": []
   },
   "outputs": [
    {
     "name": "stdout",
     "output_type": "stream",
     "text": [
      "<class 'pandas.core.frame.DataFrame'>\n",
      "RangeIndex: 301 entries, 0 to 300\n",
      "Data columns (total 9 columns):\n",
      " #   Column         Non-Null Count  Dtype  \n",
      "---  ------         --------------  -----  \n",
      " 0   Car_Name       301 non-null    object \n",
      " 1   Year           301 non-null    int64  \n",
      " 2   Selling_Price  301 non-null    float64\n",
      " 3   Present_Price  301 non-null    float64\n",
      " 4   Kms_Driven     301 non-null    int64  \n",
      " 5   Fuel_Type      301 non-null    object \n",
      " 6   Seller_Type    301 non-null    object \n",
      " 7   Transmission   301 non-null    object \n",
      " 8   Owner          301 non-null    int64  \n",
      "dtypes: float64(2), int64(3), object(4)\n",
      "memory usage: 21.3+ KB\n"
     ]
    }
   ],
   "source": [
    "#Getting info about the dataset\n",
    "car_dataset.info()"
   ]
  },
  {
   "cell_type": "code",
   "execution_count": 7,
   "id": "04f28aa1",
   "metadata": {
    "execution": {
     "iopub.execute_input": "2022-07-04T16:20:16.850106Z",
     "iopub.status.busy": "2022-07-04T16:20:16.849330Z",
     "iopub.status.idle": "2022-07-04T16:20:16.882203Z",
     "shell.execute_reply": "2022-07-04T16:20:16.881144Z"
    },
    "papermill": {
     "duration": 0.048346,
     "end_time": "2022-07-04T16:20:16.884444",
     "exception": false,
     "start_time": "2022-07-04T16:20:16.836098",
     "status": "completed"
    },
    "tags": []
   },
   "outputs": [
    {
     "data": {
      "text/html": [
       "<div>\n",
       "<style scoped>\n",
       "    .dataframe tbody tr th:only-of-type {\n",
       "        vertical-align: middle;\n",
       "    }\n",
       "\n",
       "    .dataframe tbody tr th {\n",
       "        vertical-align: top;\n",
       "    }\n",
       "\n",
       "    .dataframe thead th {\n",
       "        text-align: right;\n",
       "    }\n",
       "</style>\n",
       "<table border=\"1\" class=\"dataframe\">\n",
       "  <thead>\n",
       "    <tr style=\"text-align: right;\">\n",
       "      <th></th>\n",
       "      <th>Year</th>\n",
       "      <th>Selling_Price</th>\n",
       "      <th>Present_Price</th>\n",
       "      <th>Kms_Driven</th>\n",
       "      <th>Owner</th>\n",
       "    </tr>\n",
       "  </thead>\n",
       "  <tbody>\n",
       "    <tr>\n",
       "      <th>count</th>\n",
       "      <td>301.000000</td>\n",
       "      <td>301.000000</td>\n",
       "      <td>301.000000</td>\n",
       "      <td>301.000000</td>\n",
       "      <td>301.000000</td>\n",
       "    </tr>\n",
       "    <tr>\n",
       "      <th>mean</th>\n",
       "      <td>2013.627907</td>\n",
       "      <td>4.661296</td>\n",
       "      <td>7.628472</td>\n",
       "      <td>36947.205980</td>\n",
       "      <td>0.043189</td>\n",
       "    </tr>\n",
       "    <tr>\n",
       "      <th>std</th>\n",
       "      <td>2.891554</td>\n",
       "      <td>5.082812</td>\n",
       "      <td>8.644115</td>\n",
       "      <td>38886.883882</td>\n",
       "      <td>0.247915</td>\n",
       "    </tr>\n",
       "    <tr>\n",
       "      <th>min</th>\n",
       "      <td>2003.000000</td>\n",
       "      <td>0.100000</td>\n",
       "      <td>0.320000</td>\n",
       "      <td>500.000000</td>\n",
       "      <td>0.000000</td>\n",
       "    </tr>\n",
       "    <tr>\n",
       "      <th>25%</th>\n",
       "      <td>2012.000000</td>\n",
       "      <td>0.900000</td>\n",
       "      <td>1.200000</td>\n",
       "      <td>15000.000000</td>\n",
       "      <td>0.000000</td>\n",
       "    </tr>\n",
       "    <tr>\n",
       "      <th>50%</th>\n",
       "      <td>2014.000000</td>\n",
       "      <td>3.600000</td>\n",
       "      <td>6.400000</td>\n",
       "      <td>32000.000000</td>\n",
       "      <td>0.000000</td>\n",
       "    </tr>\n",
       "    <tr>\n",
       "      <th>75%</th>\n",
       "      <td>2016.000000</td>\n",
       "      <td>6.000000</td>\n",
       "      <td>9.900000</td>\n",
       "      <td>48767.000000</td>\n",
       "      <td>0.000000</td>\n",
       "    </tr>\n",
       "    <tr>\n",
       "      <th>max</th>\n",
       "      <td>2018.000000</td>\n",
       "      <td>35.000000</td>\n",
       "      <td>92.600000</td>\n",
       "      <td>500000.000000</td>\n",
       "      <td>3.000000</td>\n",
       "    </tr>\n",
       "  </tbody>\n",
       "</table>\n",
       "</div>"
      ],
      "text/plain": [
       "              Year  Selling_Price  Present_Price     Kms_Driven       Owner\n",
       "count   301.000000     301.000000     301.000000     301.000000  301.000000\n",
       "mean   2013.627907       4.661296       7.628472   36947.205980    0.043189\n",
       "std       2.891554       5.082812       8.644115   38886.883882    0.247915\n",
       "min    2003.000000       0.100000       0.320000     500.000000    0.000000\n",
       "25%    2012.000000       0.900000       1.200000   15000.000000    0.000000\n",
       "50%    2014.000000       3.600000       6.400000   32000.000000    0.000000\n",
       "75%    2016.000000       6.000000       9.900000   48767.000000    0.000000\n",
       "max    2018.000000      35.000000      92.600000  500000.000000    3.000000"
      ]
     },
     "execution_count": 7,
     "metadata": {},
     "output_type": "execute_result"
    }
   ],
   "source": [
    "#Getting descriptive statistics about the dataset\n",
    "car_dataset.describe()"
   ]
  },
  {
   "cell_type": "code",
   "execution_count": 8,
   "id": "2e189677",
   "metadata": {
    "execution": {
     "iopub.execute_input": "2022-07-04T16:20:16.911099Z",
     "iopub.status.busy": "2022-07-04T16:20:16.910728Z",
     "iopub.status.idle": "2022-07-04T16:20:16.919813Z",
     "shell.execute_reply": "2022-07-04T16:20:16.919027Z"
    },
    "papermill": {
     "duration": 0.025133,
     "end_time": "2022-07-04T16:20:16.921793",
     "exception": false,
     "start_time": "2022-07-04T16:20:16.896660",
     "status": "completed"
    },
    "tags": []
   },
   "outputs": [
    {
     "data": {
      "text/plain": [
       "Car_Name         0\n",
       "Year             0\n",
       "Selling_Price    0\n",
       "Present_Price    0\n",
       "Kms_Driven       0\n",
       "Fuel_Type        0\n",
       "Seller_Type      0\n",
       "Transmission     0\n",
       "Owner            0\n",
       "dtype: int64"
      ]
     },
     "execution_count": 8,
     "metadata": {},
     "output_type": "execute_result"
    }
   ],
   "source": [
    "#cheking for the number of missing values\n",
    "car_dataset.isnull().sum()"
   ]
  },
  {
   "cell_type": "markdown",
   "id": "cd25fccf",
   "metadata": {
    "papermill": {
     "duration": 0.012199,
     "end_time": "2022-07-04T16:20:16.946867",
     "exception": false,
     "start_time": "2022-07-04T16:20:16.934668",
     "status": "completed"
    },
    "tags": []
   },
   "source": [
    "# Dealing with categorical data"
   ]
  },
  {
   "cell_type": "markdown",
   "id": "c86733e3",
   "metadata": {
    "papermill": {
     "duration": 0.012189,
     "end_time": "2022-07-04T16:20:16.971649",
     "exception": false,
     "start_time": "2022-07-04T16:20:16.959460",
     "status": "completed"
    },
    "tags": []
   },
   "source": [
    "Most machine learning algorithms cannot handle categorical variables unless we convert them to numerical values"
   ]
  },
  {
   "cell_type": "code",
   "execution_count": 9,
   "id": "01b66d40",
   "metadata": {
    "execution": {
     "iopub.execute_input": "2022-07-04T16:20:16.998644Z",
     "iopub.status.busy": "2022-07-04T16:20:16.997884Z",
     "iopub.status.idle": "2022-07-04T16:20:17.007543Z",
     "shell.execute_reply": "2022-07-04T16:20:17.006382Z"
    },
    "papermill": {
     "duration": 0.025938,
     "end_time": "2022-07-04T16:20:17.010155",
     "exception": false,
     "start_time": "2022-07-04T16:20:16.984217",
     "status": "completed"
    },
    "tags": []
   },
   "outputs": [
    {
     "name": "stdout",
     "output_type": "stream",
     "text": [
      "Petrol    239\n",
      "Diesel     60\n",
      "CNG         2\n",
      "Name: Fuel_Type, dtype: int64\n",
      "Dealer        195\n",
      "Individual    106\n",
      "Name: Seller_Type, dtype: int64\n",
      "Manual       261\n",
      "Automatic     40\n",
      "Name: Transmission, dtype: int64\n"
     ]
    }
   ],
   "source": [
    "#checking the distribution of categorical data\n",
    "\n",
    "print(car_dataset.Fuel_Type.value_counts())\n",
    "print(car_dataset.Seller_Type.value_counts())\n",
    "print(car_dataset.Transmission.value_counts())"
   ]
  },
  {
   "cell_type": "markdown",
   "id": "2e5f6832",
   "metadata": {
    "papermill": {
     "duration": 0.012463,
     "end_time": "2022-07-04T16:20:17.034993",
     "exception": false,
     "start_time": "2022-07-04T16:20:17.022530",
     "status": "completed"
    },
    "tags": []
   },
   "source": [
    "<h2>Encoding categorical data</h2>"
   ]
  },
  {
   "cell_type": "code",
   "execution_count": 10,
   "id": "d24cd9f1",
   "metadata": {
    "execution": {
     "iopub.execute_input": "2022-07-04T16:20:17.061464Z",
     "iopub.status.busy": "2022-07-04T16:20:17.061100Z",
     "iopub.status.idle": "2022-07-04T16:20:17.073475Z",
     "shell.execute_reply": "2022-07-04T16:20:17.072405Z"
    },
    "papermill": {
     "duration": 0.028086,
     "end_time": "2022-07-04T16:20:17.075527",
     "exception": false,
     "start_time": "2022-07-04T16:20:17.047441",
     "status": "completed"
    },
    "tags": []
   },
   "outputs": [],
   "source": [
    "#Encoding \"Fuel type\" Column\n",
    "car_dataset.replace({'Fuel_Type':{'Petrol':0,'Diesel':1,'CNG':2}}, inplace=True)\n",
    "\n",
    "#Encoding \"Seller_type\" Column\n",
    "car_dataset.replace({'Seller_Type':{'Dealer':0,'Individual':1}}, inplace=True)\n",
    "\n",
    "#Encoding \"Transmission\" column\n",
    "car_dataset.replace({'Transmission':{'Manual':0,'Automatic':1}}, inplace=True)"
   ]
  },
  {
   "cell_type": "code",
   "execution_count": 11,
   "id": "0abc3a3c",
   "metadata": {
    "execution": {
     "iopub.execute_input": "2022-07-04T16:20:17.101925Z",
     "iopub.status.busy": "2022-07-04T16:20:17.101260Z",
     "iopub.status.idle": "2022-07-04T16:20:17.115658Z",
     "shell.execute_reply": "2022-07-04T16:20:17.114705Z"
    },
    "papermill": {
     "duration": 0.029706,
     "end_time": "2022-07-04T16:20:17.117606",
     "exception": false,
     "start_time": "2022-07-04T16:20:17.087900",
     "status": "completed"
    },
    "tags": []
   },
   "outputs": [
    {
     "data": {
      "text/html": [
       "<div>\n",
       "<style scoped>\n",
       "    .dataframe tbody tr th:only-of-type {\n",
       "        vertical-align: middle;\n",
       "    }\n",
       "\n",
       "    .dataframe tbody tr th {\n",
       "        vertical-align: top;\n",
       "    }\n",
       "\n",
       "    .dataframe thead th {\n",
       "        text-align: right;\n",
       "    }\n",
       "</style>\n",
       "<table border=\"1\" class=\"dataframe\">\n",
       "  <thead>\n",
       "    <tr style=\"text-align: right;\">\n",
       "      <th></th>\n",
       "      <th>Car_Name</th>\n",
       "      <th>Year</th>\n",
       "      <th>Selling_Price</th>\n",
       "      <th>Present_Price</th>\n",
       "      <th>Kms_Driven</th>\n",
       "      <th>Fuel_Type</th>\n",
       "      <th>Seller_Type</th>\n",
       "      <th>Transmission</th>\n",
       "      <th>Owner</th>\n",
       "    </tr>\n",
       "  </thead>\n",
       "  <tbody>\n",
       "    <tr>\n",
       "      <th>0</th>\n",
       "      <td>ritz</td>\n",
       "      <td>2014</td>\n",
       "      <td>3.35</td>\n",
       "      <td>5.59</td>\n",
       "      <td>27000</td>\n",
       "      <td>0</td>\n",
       "      <td>0</td>\n",
       "      <td>0</td>\n",
       "      <td>0</td>\n",
       "    </tr>\n",
       "    <tr>\n",
       "      <th>1</th>\n",
       "      <td>sx4</td>\n",
       "      <td>2013</td>\n",
       "      <td>4.75</td>\n",
       "      <td>9.54</td>\n",
       "      <td>43000</td>\n",
       "      <td>1</td>\n",
       "      <td>0</td>\n",
       "      <td>0</td>\n",
       "      <td>0</td>\n",
       "    </tr>\n",
       "    <tr>\n",
       "      <th>2</th>\n",
       "      <td>ciaz</td>\n",
       "      <td>2017</td>\n",
       "      <td>7.25</td>\n",
       "      <td>9.85</td>\n",
       "      <td>6900</td>\n",
       "      <td>0</td>\n",
       "      <td>0</td>\n",
       "      <td>0</td>\n",
       "      <td>0</td>\n",
       "    </tr>\n",
       "    <tr>\n",
       "      <th>3</th>\n",
       "      <td>wagon r</td>\n",
       "      <td>2011</td>\n",
       "      <td>2.85</td>\n",
       "      <td>4.15</td>\n",
       "      <td>5200</td>\n",
       "      <td>0</td>\n",
       "      <td>0</td>\n",
       "      <td>0</td>\n",
       "      <td>0</td>\n",
       "    </tr>\n",
       "    <tr>\n",
       "      <th>4</th>\n",
       "      <td>swift</td>\n",
       "      <td>2014</td>\n",
       "      <td>4.60</td>\n",
       "      <td>6.87</td>\n",
       "      <td>42450</td>\n",
       "      <td>1</td>\n",
       "      <td>0</td>\n",
       "      <td>0</td>\n",
       "      <td>0</td>\n",
       "    </tr>\n",
       "  </tbody>\n",
       "</table>\n",
       "</div>"
      ],
      "text/plain": [
       "  Car_Name  Year  Selling_Price  Present_Price  Kms_Driven  Fuel_Type  \\\n",
       "0     ritz  2014           3.35           5.59       27000          0   \n",
       "1      sx4  2013           4.75           9.54       43000          1   \n",
       "2     ciaz  2017           7.25           9.85        6900          0   \n",
       "3  wagon r  2011           2.85           4.15        5200          0   \n",
       "4    swift  2014           4.60           6.87       42450          1   \n",
       "\n",
       "   Seller_Type  Transmission  Owner  \n",
       "0            0             0      0  \n",
       "1            0             0      0  \n",
       "2            0             0      0  \n",
       "3            0             0      0  \n",
       "4            0             0      0  "
      ]
     },
     "execution_count": 11,
     "metadata": {},
     "output_type": "execute_result"
    }
   ],
   "source": [
    "#checking the change\n",
    "car_dataset.head()"
   ]
  },
  {
   "cell_type": "markdown",
   "id": "44b1dac3",
   "metadata": {
    "papermill": {
     "duration": 0.012321,
     "end_time": "2022-07-04T16:20:17.142457",
     "exception": false,
     "start_time": "2022-07-04T16:20:17.130136",
     "status": "completed"
    },
    "tags": []
   },
   "source": [
    "<h2>Data and Target Split </h2>"
   ]
  },
  {
   "cell_type": "code",
   "execution_count": 12,
   "id": "1c909450",
   "metadata": {
    "execution": {
     "iopub.execute_input": "2022-07-04T16:20:17.169647Z",
     "iopub.status.busy": "2022-07-04T16:20:17.168987Z",
     "iopub.status.idle": "2022-07-04T16:20:17.174695Z",
     "shell.execute_reply": "2022-07-04T16:20:17.173937Z"
    },
    "papermill": {
     "duration": 0.021626,
     "end_time": "2022-07-04T16:20:17.176776",
     "exception": false,
     "start_time": "2022-07-04T16:20:17.155150",
     "status": "completed"
    },
    "tags": []
   },
   "outputs": [],
   "source": [
    "X = car_dataset.drop(['Car_Name', 'Selling_Price'], axis=1)\n",
    "Y = car_dataset['Selling_Price']"
   ]
  },
  {
   "cell_type": "code",
   "execution_count": 13,
   "id": "be96da3c",
   "metadata": {
    "execution": {
     "iopub.execute_input": "2022-07-04T16:20:17.204065Z",
     "iopub.status.busy": "2022-07-04T16:20:17.203390Z",
     "iopub.status.idle": "2022-07-04T16:20:17.212651Z",
     "shell.execute_reply": "2022-07-04T16:20:17.211943Z"
    },
    "papermill": {
     "duration": 0.025474,
     "end_time": "2022-07-04T16:20:17.215061",
     "exception": false,
     "start_time": "2022-07-04T16:20:17.189587",
     "status": "completed"
    },
    "tags": []
   },
   "outputs": [
    {
     "name": "stdout",
     "output_type": "stream",
     "text": [
      "     Year  Present_Price  Kms_Driven  Fuel_Type  Seller_Type  Transmission  \\\n",
      "0    2014           5.59       27000          0            0             0   \n",
      "1    2013           9.54       43000          1            0             0   \n",
      "2    2017           9.85        6900          0            0             0   \n",
      "3    2011           4.15        5200          0            0             0   \n",
      "4    2014           6.87       42450          1            0             0   \n",
      "..    ...            ...         ...        ...          ...           ...   \n",
      "296  2016          11.60       33988          1            0             0   \n",
      "297  2015           5.90       60000          0            0             0   \n",
      "298  2009          11.00       87934          0            0             0   \n",
      "299  2017          12.50        9000          1            0             0   \n",
      "300  2016           5.90        5464          0            0             0   \n",
      "\n",
      "     Owner  \n",
      "0        0  \n",
      "1        0  \n",
      "2        0  \n",
      "3        0  \n",
      "4        0  \n",
      "..     ...  \n",
      "296      0  \n",
      "297      0  \n",
      "298      0  \n",
      "299      0  \n",
      "300      0  \n",
      "\n",
      "[301 rows x 7 columns]\n"
     ]
    }
   ],
   "source": [
    "print(X)"
   ]
  },
  {
   "cell_type": "code",
   "execution_count": 14,
   "id": "7f28c9e6",
   "metadata": {
    "execution": {
     "iopub.execute_input": "2022-07-04T16:20:17.242632Z",
     "iopub.status.busy": "2022-07-04T16:20:17.241973Z",
     "iopub.status.idle": "2022-07-04T16:20:17.248095Z",
     "shell.execute_reply": "2022-07-04T16:20:17.247207Z"
    },
    "papermill": {
     "duration": 0.022759,
     "end_time": "2022-07-04T16:20:17.250621",
     "exception": false,
     "start_time": "2022-07-04T16:20:17.227862",
     "status": "completed"
    },
    "tags": []
   },
   "outputs": [
    {
     "name": "stdout",
     "output_type": "stream",
     "text": [
      "0       3.35\n",
      "1       4.75\n",
      "2       7.25\n",
      "3       2.85\n",
      "4       4.60\n",
      "       ...  \n",
      "296     9.50\n",
      "297     4.00\n",
      "298     3.35\n",
      "299    11.50\n",
      "300     5.30\n",
      "Name: Selling_Price, Length: 301, dtype: float64\n"
     ]
    }
   ],
   "source": [
    "print(Y)"
   ]
  },
  {
   "cell_type": "markdown",
   "id": "dd89f6c0",
   "metadata": {
    "papermill": {
     "duration": 0.012423,
     "end_time": "2022-07-04T16:20:17.276592",
     "exception": false,
     "start_time": "2022-07-04T16:20:17.264169",
     "status": "completed"
    },
    "tags": []
   },
   "source": [
    "<h2>Train and Test Split</h2>"
   ]
  },
  {
   "cell_type": "code",
   "execution_count": 15,
   "id": "648852b5",
   "metadata": {
    "execution": {
     "iopub.execute_input": "2022-07-04T16:20:17.303774Z",
     "iopub.status.busy": "2022-07-04T16:20:17.303218Z",
     "iopub.status.idle": "2022-07-04T16:20:17.309752Z",
     "shell.execute_reply": "2022-07-04T16:20:17.309016Z"
    },
    "papermill": {
     "duration": 0.022524,
     "end_time": "2022-07-04T16:20:17.311762",
     "exception": false,
     "start_time": "2022-07-04T16:20:17.289238",
     "status": "completed"
    },
    "tags": []
   },
   "outputs": [],
   "source": [
    "from sklearn.model_selection import train_test_split\n",
    "X_train,X_test, Y_train,Y_test = train_test_split(X,Y, test_size=0.25,random_state=0)"
   ]
  },
  {
   "cell_type": "markdown",
   "id": "8434998a",
   "metadata": {
    "papermill": {
     "duration": 0.012628,
     "end_time": "2022-07-04T16:20:17.337125",
     "exception": false,
     "start_time": "2022-07-04T16:20:17.324497",
     "status": "completed"
    },
    "tags": []
   },
   "source": [
    "<h2>Model training</h2>"
   ]
  },
  {
   "cell_type": "markdown",
   "id": "55290b79",
   "metadata": {
    "papermill": {
     "duration": 0.012553,
     "end_time": "2022-07-04T16:20:17.362506",
     "exception": false,
     "start_time": "2022-07-04T16:20:17.349953",
     "status": "completed"
    },
    "tags": []
   },
   "source": [
    "<h3>1. Linear Regression</h3>"
   ]
  },
  {
   "cell_type": "code",
   "execution_count": 16,
   "id": "9d5667b9",
   "metadata": {
    "execution": {
     "iopub.execute_input": "2022-07-04T16:20:17.390264Z",
     "iopub.status.busy": "2022-07-04T16:20:17.389785Z",
     "iopub.status.idle": "2022-07-04T16:20:17.394203Z",
     "shell.execute_reply": "2022-07-04T16:20:17.393142Z"
    },
    "papermill": {
     "duration": 0.02107,
     "end_time": "2022-07-04T16:20:17.396412",
     "exception": false,
     "start_time": "2022-07-04T16:20:17.375342",
     "status": "completed"
    },
    "tags": []
   },
   "outputs": [],
   "source": [
    "#loading model\n",
    "lin_reg_model = LinearRegression()"
   ]
  },
  {
   "cell_type": "code",
   "execution_count": 17,
   "id": "cda2da16",
   "metadata": {
    "execution": {
     "iopub.execute_input": "2022-07-04T16:20:17.424184Z",
     "iopub.status.busy": "2022-07-04T16:20:17.423561Z",
     "iopub.status.idle": "2022-07-04T16:20:17.456262Z",
     "shell.execute_reply": "2022-07-04T16:20:17.455201Z"
    },
    "papermill": {
     "duration": 0.049282,
     "end_time": "2022-07-04T16:20:17.458551",
     "exception": false,
     "start_time": "2022-07-04T16:20:17.409269",
     "status": "completed"
    },
    "tags": []
   },
   "outputs": [
    {
     "data": {
      "text/plain": [
       "LinearRegression()"
      ]
     },
     "execution_count": 17,
     "metadata": {},
     "output_type": "execute_result"
    }
   ],
   "source": [
    "#fitting with the model\n",
    "lin_reg_model.fit(X_train,Y_train)"
   ]
  },
  {
   "cell_type": "markdown",
   "id": "a7b7641b",
   "metadata": {
    "papermill": {
     "duration": 0.01247,
     "end_time": "2022-07-04T16:20:17.483837",
     "exception": false,
     "start_time": "2022-07-04T16:20:17.471367",
     "status": "completed"
    },
    "tags": []
   },
   "source": [
    "<h3>Model Evalaution</h3>"
   ]
  },
  {
   "cell_type": "code",
   "execution_count": 18,
   "id": "c1fb929b",
   "metadata": {
    "execution": {
     "iopub.execute_input": "2022-07-04T16:20:17.511616Z",
     "iopub.status.busy": "2022-07-04T16:20:17.510738Z",
     "iopub.status.idle": "2022-07-04T16:20:17.519833Z",
     "shell.execute_reply": "2022-07-04T16:20:17.518925Z"
    },
    "papermill": {
     "duration": 0.025535,
     "end_time": "2022-07-04T16:20:17.522163",
     "exception": false,
     "start_time": "2022-07-04T16:20:17.496628",
     "status": "completed"
    },
    "tags": []
   },
   "outputs": [],
   "source": [
    "#Prediction on training data\n",
    "training_data_prediction = lin_reg_model.predict(X_train)"
   ]
  },
  {
   "cell_type": "code",
   "execution_count": 19,
   "id": "f9c7815c",
   "metadata": {
    "execution": {
     "iopub.execute_input": "2022-07-04T16:20:17.549997Z",
     "iopub.status.busy": "2022-07-04T16:20:17.549582Z",
     "iopub.status.idle": "2022-07-04T16:20:17.557920Z",
     "shell.execute_reply": "2022-07-04T16:20:17.556201Z"
    },
    "papermill": {
     "duration": 0.025644,
     "end_time": "2022-07-04T16:20:17.561014",
     "exception": false,
     "start_time": "2022-07-04T16:20:17.535370",
     "status": "completed"
    },
    "tags": []
   },
   "outputs": [
    {
     "name": "stdout",
     "output_type": "stream",
     "text": [
      "R squared Error on training data:  0.8797157389756147\n"
     ]
    }
   ],
   "source": [
    "#R squared Error\n",
    "from sklearn.metrics import accuracy_score\n",
    "from sklearn import metrics\n",
    "\n",
    "error_score = metrics.r2_score(Y_train, training_data_prediction)\n",
    "print(\"R squared Error on training data: \",error_score)"
   ]
  },
  {
   "cell_type": "markdown",
   "id": "a76fcd7a",
   "metadata": {
    "papermill": {
     "duration": 0.012764,
     "end_time": "2022-07-04T16:20:17.587199",
     "exception": false,
     "start_time": "2022-07-04T16:20:17.574435",
     "status": "completed"
    },
    "tags": []
   },
   "source": [
    "<h3>Visualizing Actual and Predicted Prices</h3>"
   ]
  },
  {
   "cell_type": "markdown",
   "id": "94bdd657",
   "metadata": {
    "papermill": {
     "duration": 0.012604,
     "end_time": "2022-07-04T16:20:17.612871",
     "exception": false,
     "start_time": "2022-07-04T16:20:17.600267",
     "status": "completed"
    },
    "tags": []
   },
   "source": [
    "#### Training data prediction Plot"
   ]
  },
  {
   "cell_type": "code",
   "execution_count": 20,
   "id": "8076e75b",
   "metadata": {
    "execution": {
     "iopub.execute_input": "2022-07-04T16:20:17.640917Z",
     "iopub.status.busy": "2022-07-04T16:20:17.640174Z",
     "iopub.status.idle": "2022-07-04T16:20:17.879799Z",
     "shell.execute_reply": "2022-07-04T16:20:17.879020Z"
    },
    "papermill": {
     "duration": 0.256038,
     "end_time": "2022-07-04T16:20:17.881914",
     "exception": false,
     "start_time": "2022-07-04T16:20:17.625876",
     "status": "completed"
    },
    "tags": []
   },
   "outputs": [
    {
     "data": {
      "image/png": "[encoded data removed]",
      "text/plain": [
       "<Figure size 432x288 with 1 Axes>"
      ]
     },
     "metadata": {
      "needs_background": "light"
     },
     "output_type": "display_data"
    }
   ],
   "source": [
    "plt.scatter(Y_train,training_data_prediction)\n",
    "plt.xlabel(\"Actual Prices\")\n",
    "plt.ylabel(\"Predicted Price\")\n",
    "plt.title(\"Actaul Prices vs Predicted Prices\")\n",
    "plt.show()"
   ]
  },
  {
   "cell_type": "markdown",
   "id": "3a5a0621",
   "metadata": {
    "papermill": {
     "duration": 0.013179,
     "end_time": "2022-07-04T16:20:17.908879",
     "exception": false,
     "start_time": "2022-07-04T16:20:17.895700",
     "status": "completed"
    },
    "tags": []
   },
   "source": [
    "                                         Now trying with test data"
   ]
  },
  {
   "cell_type": "code",
   "execution_count": 21,
   "id": "44b97c2e",
   "metadata": {
    "execution": {
     "iopub.execute_input": "2022-07-04T16:20:17.937644Z",
     "iopub.status.busy": "2022-07-04T16:20:17.936954Z",
     "iopub.status.idle": "2022-07-04T16:20:17.942937Z",
     "shell.execute_reply": "2022-07-04T16:20:17.942218Z"
    },
    "papermill": {
     "duration": 0.022714,
     "end_time": "2022-07-04T16:20:17.944998",
     "exception": false,
     "start_time": "2022-07-04T16:20:17.922284",
     "status": "completed"
    },
    "tags": []
   },
   "outputs": [],
   "source": [
    "#Prediction on test data\n",
    "test_data_prediction = lin_reg_model.predict(X_test)"
   ]
  },
  {
   "cell_type": "code",
   "execution_count": 22,
   "id": "a850e8f6",
   "metadata": {
    "execution": {
     "iopub.execute_input": "2022-07-04T16:20:17.973572Z",
     "iopub.status.busy": "2022-07-04T16:20:17.972907Z",
     "iopub.status.idle": "2022-07-04T16:20:17.978493Z",
     "shell.execute_reply": "2022-07-04T16:20:17.977511Z"
    },
    "papermill": {
     "duration": 0.022314,
     "end_time": "2022-07-04T16:20:17.980675",
     "exception": false,
     "start_time": "2022-07-04T16:20:17.958361",
     "status": "completed"
    },
    "tags": []
   },
   "outputs": [
    {
     "name": "stdout",
     "output_type": "stream",
     "text": [
      "R squared Error on tset data:  0.8619745435369578\n"
     ]
    }
   ],
   "source": [
    "#R squared Error\n",
    "error_score = metrics.r2_score(Y_test, test_data_prediction)\n",
    "print(\"R squared Error on tset data: \",error_score)"
   ]
  },
  {
   "cell_type": "markdown",
   "id": "6e2c32a8",
   "metadata": {
    "papermill": {
     "duration": 0.013511,
     "end_time": "2022-07-04T16:20:18.007505",
     "exception": false,
     "start_time": "2022-07-04T16:20:17.993994",
     "status": "completed"
    },
    "tags": []
   },
   "source": [
    "#### Test data prediction Plot\n"
   ]
  },
  {
   "cell_type": "code",
   "execution_count": 23,
   "id": "972406aa",
   "metadata": {
    "execution": {
     "iopub.execute_input": "2022-07-04T16:20:18.036673Z",
     "iopub.status.busy": "2022-07-04T16:20:18.036312Z",
     "iopub.status.idle": "2022-07-04T16:20:18.225107Z",
     "shell.execute_reply": "2022-07-04T16:20:18.224325Z"
    },
    "papermill": {
     "duration": 0.206005,
     "end_time": "2022-07-04T16:20:18.227353",
     "exception": false,
     "start_time": "2022-07-04T16:20:18.021348",
     "status": "completed"
    },
    "tags": []
   },
   "outputs": [
    {
     "data": {
      "image/png": "[encoded data removed]",
      "text/plain": [
       "<Figure size 432x288 with 1 Axes>"
      ]
     },
     "metadata": {
      "needs_background": "light"
     },
     "output_type": "display_data"
    }
   ],
   "source": [
    "plt.scatter(Y_test,test_data_prediction,color='red')\n",
    "plt.xlabel(\"Actual Prices\")\n",
    "plt.ylabel(\"Predicted Price\")\n",
    "plt.title(\"Actaul Prices vs Predicted Prices\")\n",
    "plt.show()"
   ]
  },
  {
   "cell_type": "markdown",
   "id": "b375c1a7",
   "metadata": {
    "papermill": {
     "duration": 0.013461,
     "end_time": "2022-07-04T16:20:18.254462",
     "exception": false,
     "start_time": "2022-07-04T16:20:18.241001",
     "status": "completed"
    },
    "tags": []
   },
   "source": [
    "<h3>2. Lasso Regression</h3>"
   ]
  },
  {
   "cell_type": "code",
   "execution_count": 24,
   "id": "cc67d7a6",
   "metadata": {
    "execution": {
     "iopub.execute_input": "2022-07-04T16:20:18.285160Z",
     "iopub.status.busy": "2022-07-04T16:20:18.284438Z",
     "iopub.status.idle": "2022-07-04T16:20:18.289349Z",
     "shell.execute_reply": "2022-07-04T16:20:18.288570Z"
    },
    "papermill": {
     "duration": 0.023102,
     "end_time": "2022-07-04T16:20:18.291472",
     "exception": false,
     "start_time": "2022-07-04T16:20:18.268370",
     "status": "completed"
    },
    "tags": []
   },
   "outputs": [],
   "source": [
    "#loading the linear regression model\n",
    "from sklearn.linear_model import Lasso\n",
    "lass_reg_model = Lasso()"
   ]
  },
  {
   "cell_type": "code",
   "execution_count": 25,
   "id": "07df8e62",
   "metadata": {
    "execution": {
     "iopub.execute_input": "2022-07-04T16:20:18.321701Z",
     "iopub.status.busy": "2022-07-04T16:20:18.320927Z",
     "iopub.status.idle": "2022-07-04T16:20:18.332148Z",
     "shell.execute_reply": "2022-07-04T16:20:18.331338Z"
    },
    "papermill": {
     "duration": 0.028853,
     "end_time": "2022-07-04T16:20:18.334348",
     "exception": false,
     "start_time": "2022-07-04T16:20:18.305495",
     "status": "completed"
    },
    "tags": []
   },
   "outputs": [
    {
     "data": {
      "text/plain": [
       "Lasso()"
      ]
     },
     "execution_count": 25,
     "metadata": {},
     "output_type": "execute_result"
    }
   ],
   "source": [
    "lass_reg_model.fit(X_train,Y_train)"
   ]
  },
  {
   "cell_type": "markdown",
   "id": "a0a5d900",
   "metadata": {
    "papermill": {
     "duration": 0.013759,
     "end_time": "2022-07-04T16:20:18.362231",
     "exception": false,
     "start_time": "2022-07-04T16:20:18.348472",
     "status": "completed"
    },
    "tags": []
   },
   "source": [
    "<h3>Model Evalaution</h3>"
   ]
  },
  {
   "cell_type": "code",
   "execution_count": 26,
   "id": "d3808c21",
   "metadata": {
    "execution": {
     "iopub.execute_input": "2022-07-04T16:20:18.391892Z",
     "iopub.status.busy": "2022-07-04T16:20:18.391069Z",
     "iopub.status.idle": "2022-07-04T16:20:18.397034Z",
     "shell.execute_reply": "2022-07-04T16:20:18.396268Z"
    },
    "papermill": {
     "duration": 0.02308,
     "end_time": "2022-07-04T16:20:18.399114",
     "exception": false,
     "start_time": "2022-07-04T16:20:18.376034",
     "status": "completed"
    },
    "tags": []
   },
   "outputs": [],
   "source": [
    "#Prediction on the training Data\n",
    "training_data_prediction = lass_reg_model.predict(X_train)"
   ]
  },
  {
   "cell_type": "code",
   "execution_count": 27,
   "id": "7b0f8b68",
   "metadata": {
    "execution": {
     "iopub.execute_input": "2022-07-04T16:20:18.429082Z",
     "iopub.status.busy": "2022-07-04T16:20:18.428283Z",
     "iopub.status.idle": "2022-07-04T16:20:18.435305Z",
     "shell.execute_reply": "2022-07-04T16:20:18.433889Z"
    },
    "papermill": {
     "duration": 0.0245,
     "end_time": "2022-07-04T16:20:18.437532",
     "exception": false,
     "start_time": "2022-07-04T16:20:18.413032",
     "status": "completed"
    },
    "tags": []
   },
   "outputs": [
    {
     "name": "stdout",
     "output_type": "stream",
     "text": [
      "R Squared error on training :  0.8397990185794106\n"
     ]
    }
   ],
   "source": [
    "#R squared Error\n",
    "error_score = metrics.r2_score(Y_train,training_data_prediction)\n",
    "print(\"R Squared error on training : \",error_score)"
   ]
  },
  {
   "cell_type": "markdown",
   "id": "4ad81ab0",
   "metadata": {
    "papermill": {
     "duration": 0.013518,
     "end_time": "2022-07-04T16:20:18.464995",
     "exception": false,
     "start_time": "2022-07-04T16:20:18.451477",
     "status": "completed"
    },
    "tags": []
   },
   "source": [
    "<h3>Visualize the Actuals Price vs Predicted Prices</h3>"
   ]
  },
  {
   "cell_type": "code",
   "execution_count": 28,
   "id": "d12ff9db",
   "metadata": {
    "execution": {
     "iopub.execute_input": "2022-07-04T16:20:18.495108Z",
     "iopub.status.busy": "2022-07-04T16:20:18.494349Z",
     "iopub.status.idle": "2022-07-04T16:20:18.685158Z",
     "shell.execute_reply": "2022-07-04T16:20:18.684044Z"
    },
    "papermill": {
     "duration": 0.208407,
     "end_time": "2022-07-04T16:20:18.687490",
     "exception": false,
     "start_time": "2022-07-04T16:20:18.479083",
     "status": "completed"
    },
    "tags": []
   },
   "outputs": [
    {
     "data": {
      "image/png": "[encoded data removed]",
      "text/plain": [
       "<Figure size 432x288 with 1 Axes>"
      ]
     },
     "metadata": {
      "needs_background": "light"
     },
     "output_type": "display_data"
    }
   ],
   "source": [
    "plt.scatter(Y_train,training_data_prediction)\n",
    "plt.xlabel(\"Actual Prices\")\n",
    "plt.ylabel(\"Predicted Price\")\n",
    "plt.title(\"Actaul Prices vs Predicted Prices\")\n",
    "plt.show()"
   ]
  },
  {
   "cell_type": "code",
   "execution_count": 29,
   "id": "66c3a236",
   "metadata": {
    "execution": {
     "iopub.execute_input": "2022-07-04T16:20:18.718140Z",
     "iopub.status.busy": "2022-07-04T16:20:18.717391Z",
     "iopub.status.idle": "2022-07-04T16:20:18.724153Z",
     "shell.execute_reply": "2022-07-04T16:20:18.723326Z"
    },
    "papermill": {
     "duration": 0.024849,
     "end_time": "2022-07-04T16:20:18.726693",
     "exception": false,
     "start_time": "2022-07-04T16:20:18.701844",
     "status": "completed"
    },
    "tags": []
   },
   "outputs": [],
   "source": [
    "#Prediction on test data\n",
    "test_data_prediction = lass_reg_model.predict(X_test)"
   ]
  },
  {
   "cell_type": "code",
   "execution_count": 30,
   "id": "584a0470",
   "metadata": {
    "execution": {
     "iopub.execute_input": "2022-07-04T16:20:18.758864Z",
     "iopub.status.busy": "2022-07-04T16:20:18.758121Z",
     "iopub.status.idle": "2022-07-04T16:20:18.765620Z",
     "shell.execute_reply": "2022-07-04T16:20:18.764257Z"
    },
    "papermill": {
     "duration": 0.02641,
     "end_time": "2022-07-04T16:20:18.767838",
     "exception": false,
     "start_time": "2022-07-04T16:20:18.741428",
     "status": "completed"
    },
    "tags": []
   },
   "outputs": [
    {
     "name": "stdout",
     "output_type": "stream",
     "text": [
      "R squared Error on testing :  0.8146779062313625\n"
     ]
    }
   ],
   "source": [
    "#R squared Error\n",
    "error_score = metrics.r2_score(Y_test, test_data_prediction)\n",
    "print(\"R squared Error on testing : \",error_score)"
   ]
  },
  {
   "cell_type": "code",
   "execution_count": 31,
   "id": "19444817",
   "metadata": {
    "execution": {
     "iopub.execute_input": "2022-07-04T16:20:18.799894Z",
     "iopub.status.busy": "2022-07-04T16:20:18.799117Z",
     "iopub.status.idle": "2022-07-04T16:20:19.007232Z",
     "shell.execute_reply": "2022-07-04T16:20:19.006427Z"
    },
    "papermill": {
     "duration": 0.226967,
     "end_time": "2022-07-04T16:20:19.009491",
     "exception": false,
     "start_time": "2022-07-04T16:20:18.782524",
     "status": "completed"
    },
    "tags": []
   },
   "outputs": [
    {
     "data": {
      "image/png": "[encoded data removed]",
      "text/plain": [
       "<Figure size 432x288 with 1 Axes>"
      ]
     },
     "metadata": {
      "needs_background": "light"
     },
     "output_type": "display_data"
    }
   ],
   "source": [
    "plt.scatter(Y_test,test_data_prediction,color='red')\n",
    "plt.xlabel(\"Actual Prices\")\n",
    "plt.ylabel(\"Predicted Price\")\n",
    "plt.title(\"Actaul Prices vs Predicted Prices\")\n",
    "plt.show()"
   ]
  }
 ],
 "metadata": {
  "kernelspec": {
   "display_name": "Python 3",
   "language": "python",
   "name": "python3"
  },
  "language_info": {
   "codemirror_mode": {
    "name": "ipython",
    "version": 3
   },
   "file_extension": ".py",
   "mimetype": "text/x-python",
   "name": "python",
   "nbconvert_exporter": "python",
   "pygments_lexer": "ipython3",
   "version": "3.7.12"
  },
  "papermill": {
   "default_parameters": {},
   "duration": 13.920222,
   "end_time": "2022-07-04T16:20:19.744929",
   "environment_variables": {},
   "exception": null,
   "input_path": "__notebook__.ipynb",
   "output_path": "__notebook__.ipynb",
   "parameters": {},
   "start_time": "2022-07-04T16:20:05.824707",
   "version": "2.3.4"
  }
 },
 "nbformat": 4,
 "nbformat_minor": 5
}
