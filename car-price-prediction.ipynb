{
 "cells": [
  {
   "cell_type": "markdown",
   "id": "90806afc",
   "metadata": {
    "papermill": {
     "duration": 0.009148,
     "end_time": "2022-07-20T12:12:39.833914",
     "exception": false,
     "start_time": "2022-07-20T12:12:39.824766",
     "status": "completed"
    },
    "tags": []
   },
   "source": [
    "<h2>Importing libraries</h2>"
   ]
  },
  {
   "cell_type": "code",
   "execution_count": 1,
   "id": "d657e987",
   "metadata": {
    "execution": {
     "iopub.execute_input": "2022-07-20T12:12:39.852390Z",
     "iopub.status.busy": "2022-07-20T12:12:39.851691Z",
     "iopub.status.idle": "2022-07-20T12:12:40.946221Z",
     "shell.execute_reply": "2022-07-20T12:12:40.945048Z"
    },
    "papermill": {
     "duration": 1.106596,
     "end_time": "2022-07-20T12:12:40.948844",
     "exception": false,
     "start_time": "2022-07-20T12:12:39.842248",
     "status": "completed"
    },
    "tags": []
   },
   "outputs": [],
   "source": [
    "import pandas as pd\n",
    "import matplotlib.pyplot as plt\n",
    "from sklearn.linear_model import LinearRegression"
   ]
  },
  {
   "cell_type": "markdown",
   "id": "921c67ce",
   "metadata": {
    "papermill": {
     "duration": 0.008155,
     "end_time": "2022-07-20T12:12:40.965284",
     "exception": false,
     "start_time": "2022-07-20T12:12:40.957129",
     "status": "completed"
    },
    "tags": []
   },
   "source": [
    "<h2>Data Collection and Processing</h2>"
   ]
  },
  {
   "cell_type": "code",
   "execution_count": 2,
   "id": "285d0bb2",
   "metadata": {
    "execution": {
     "iopub.execute_input": "2022-07-20T12:12:40.983618Z",
     "iopub.status.busy": "2022-07-20T12:12:40.982735Z",
     "iopub.status.idle": "2022-07-20T12:12:41.009977Z",
     "shell.execute_reply": "2022-07-20T12:12:41.008931Z"
    },
    "papermill": {
     "duration": 0.03911,
     "end_time": "2022-07-20T12:12:41.012693",
     "exception": false,
     "start_time": "2022-07-20T12:12:40.973583",
     "status": "completed"
    },
    "tags": []
   },
   "outputs": [],
   "source": [
    "#Load the dataset into a pandas dataframe\n",
    "car_dataset = pd.read_csv('../input/vehicle-dataset-from-cardekho/car data.csv')"
   ]
  },
  {
   "cell_type": "code",
   "execution_count": 3,
   "id": "ce5333e0",
   "metadata": {
    "execution": {
     "iopub.execute_input": "2022-07-20T12:12:41.031927Z",
     "iopub.status.busy": "2022-07-20T12:12:41.031245Z",
     "iopub.status.idle": "2022-07-20T12:12:41.056375Z",
     "shell.execute_reply": "2022-07-20T12:12:41.055254Z"
    },
    "papermill": {
     "duration": 0.037792,
     "end_time": "2022-07-20T12:12:41.058768",
     "exception": false,
     "start_time": "2022-07-20T12:12:41.020976",
     "status": "completed"
    },
    "tags": []
   },
   "outputs": [
    {
     "data": {
      "text/html": [
       "<div>\n",
       "<style scoped>\n",
       "    .dataframe tbody tr th:only-of-type {\n",
       "        vertical-align: middle;\n",
       "    }\n",
       "\n",
       "    .dataframe tbody tr th {\n",
       "        vertical-align: top;\n",
       "    }\n",
       "\n",
       "    .dataframe thead th {\n",
       "        text-align: right;\n",
       "    }\n",
       "</style>\n",
       "<table border=\"1\" class=\"dataframe\">\n",
       "  <thead>\n",
       "    <tr style=\"text-align: right;\">\n",
       "      <th></th>\n",
       "      <th>Car_Name</th>\n",
       "      <th>Year</th>\n",
       "      <th>Selling_Price</th>\n",
       "      <th>Present_Price</th>\n",
       "      <th>Kms_Driven</th>\n",
       "      <th>Fuel_Type</th>\n",
       "      <th>Seller_Type</th>\n",
       "      <th>Transmission</th>\n",
       "      <th>Owner</th>\n",
       "    </tr>\n",
       "  </thead>\n",
       "  <tbody>\n",
       "    <tr>\n",
       "      <th>0</th>\n",
       "      <td>ritz</td>\n",
       "      <td>2014</td>\n",
       "      <td>3.35</td>\n",
       "      <td>5.59</td>\n",
       "      <td>27000</td>\n",
       "      <td>Petrol</td>\n",
       "      <td>Dealer</td>\n",
       "      <td>Manual</td>\n",
       "      <td>0</td>\n",
       "    </tr>\n",
       "    <tr>\n",
       "      <th>1</th>\n",
       "      <td>sx4</td>\n",
       "      <td>2013</td>\n",
       "      <td>4.75</td>\n",
       "      <td>9.54</td>\n",
       "      <td>43000</td>\n",
       "      <td>Diesel</td>\n",
       "      <td>Dealer</td>\n",
       "      <td>Manual</td>\n",
       "      <td>0</td>\n",
       "    </tr>\n",
       "    <tr>\n",
       "      <th>2</th>\n",
       "      <td>ciaz</td>\n",
       "      <td>2017</td>\n",
       "      <td>7.25</td>\n",
       "      <td>9.85</td>\n",
       "      <td>6900</td>\n",
       "      <td>Petrol</td>\n",
       "      <td>Dealer</td>\n",
       "      <td>Manual</td>\n",
       "      <td>0</td>\n",
       "    </tr>\n",
       "    <tr>\n",
       "      <th>3</th>\n",
       "      <td>wagon r</td>\n",
       "      <td>2011</td>\n",
       "      <td>2.85</td>\n",
       "      <td>4.15</td>\n",
       "      <td>5200</td>\n",
       "      <td>Petrol</td>\n",
       "      <td>Dealer</td>\n",
       "      <td>Manual</td>\n",
       "      <td>0</td>\n",
       "    </tr>\n",
       "    <tr>\n",
       "      <th>4</th>\n",
       "      <td>swift</td>\n",
       "      <td>2014</td>\n",
       "      <td>4.60</td>\n",
       "      <td>6.87</td>\n",
       "      <td>42450</td>\n",
       "      <td>Diesel</td>\n",
       "      <td>Dealer</td>\n",
       "      <td>Manual</td>\n",
       "      <td>0</td>\n",
       "    </tr>\n",
       "    <tr>\n",
       "      <th>5</th>\n",
       "      <td>vitara brezza</td>\n",
       "      <td>2018</td>\n",
       "      <td>9.25</td>\n",
       "      <td>9.83</td>\n",
       "      <td>2071</td>\n",
       "      <td>Diesel</td>\n",
       "      <td>Dealer</td>\n",
       "      <td>Manual</td>\n",
       "      <td>0</td>\n",
       "    </tr>\n",
       "    <tr>\n",
       "      <th>6</th>\n",
       "      <td>ciaz</td>\n",
       "      <td>2015</td>\n",
       "      <td>6.75</td>\n",
       "      <td>8.12</td>\n",
       "      <td>18796</td>\n",
       "      <td>Petrol</td>\n",
       "      <td>Dealer</td>\n",
       "      <td>Manual</td>\n",
       "      <td>0</td>\n",
       "    </tr>\n",
       "    <tr>\n",
       "      <th>7</th>\n",
       "      <td>s cross</td>\n",
       "      <td>2015</td>\n",
       "      <td>6.50</td>\n",
       "      <td>8.61</td>\n",
       "      <td>33429</td>\n",
       "      <td>Diesel</td>\n",
       "      <td>Dealer</td>\n",
       "      <td>Manual</td>\n",
       "      <td>0</td>\n",
       "    </tr>\n",
       "    <tr>\n",
       "      <th>8</th>\n",
       "      <td>ciaz</td>\n",
       "      <td>2016</td>\n",
       "      <td>8.75</td>\n",
       "      <td>8.89</td>\n",
       "      <td>20273</td>\n",
       "      <td>Diesel</td>\n",
       "      <td>Dealer</td>\n",
       "      <td>Manual</td>\n",
       "      <td>0</td>\n",
       "    </tr>\n",
       "    <tr>\n",
       "      <th>9</th>\n",
       "      <td>ciaz</td>\n",
       "      <td>2015</td>\n",
       "      <td>7.45</td>\n",
       "      <td>8.92</td>\n",
       "      <td>42367</td>\n",
       "      <td>Diesel</td>\n",
       "      <td>Dealer</td>\n",
       "      <td>Manual</td>\n",
       "      <td>0</td>\n",
       "    </tr>\n",
       "  </tbody>\n",
       "</table>\n",
       "</div>"
      ],
      "text/plain": [
       "        Car_Name  Year  Selling_Price  Present_Price  Kms_Driven Fuel_Type  \\\n",
       "0           ritz  2014           3.35           5.59       27000    Petrol   \n",
       "1            sx4  2013           4.75           9.54       43000    Diesel   \n",
       "2           ciaz  2017           7.25           9.85        6900    Petrol   \n",
       "3        wagon r  2011           2.85           4.15        5200    Petrol   \n",
       "4          swift  2014           4.60           6.87       42450    Diesel   \n",
       "5  vitara brezza  2018           9.25           9.83        2071    Diesel   \n",
       "6           ciaz  2015           6.75           8.12       18796    Petrol   \n",
       "7        s cross  2015           6.50           8.61       33429    Diesel   \n",
       "8           ciaz  2016           8.75           8.89       20273    Diesel   \n",
       "9           ciaz  2015           7.45           8.92       42367    Diesel   \n",
       "\n",
       "  Seller_Type Transmission  Owner  \n",
       "0      Dealer       Manual      0  \n",
       "1      Dealer       Manual      0  \n",
       "2      Dealer       Manual      0  \n",
       "3      Dealer       Manual      0  \n",
       "4      Dealer       Manual      0  \n",
       "5      Dealer       Manual      0  \n",
       "6      Dealer       Manual      0  \n",
       "7      Dealer       Manual      0  \n",
       "8      Dealer       Manual      0  \n",
       "9      Dealer       Manual      0  "
      ]
     },
     "execution_count": 3,
     "metadata": {},
     "output_type": "execute_result"
    }
   ],
   "source": [
    "#showing the first 10 row of the dataframe\n",
    "car_dataset.head(10)"
   ]
  },
  {
   "cell_type": "code",
   "execution_count": 4,
   "id": "7b3a98d0",
   "metadata": {
    "execution": {
     "iopub.execute_input": "2022-07-20T12:12:41.078518Z",
     "iopub.status.busy": "2022-07-20T12:12:41.077823Z",
     "iopub.status.idle": "2022-07-20T12:12:41.082963Z",
     "shell.execute_reply": "2022-07-20T12:12:41.082214Z"
    },
    "papermill": {
     "duration": 0.016955,
     "end_time": "2022-07-20T12:12:41.084787",
     "exception": false,
     "start_time": "2022-07-20T12:12:41.067832",
     "status": "completed"
    },
    "tags": []
   },
   "outputs": [
    {
     "data": {
      "text/plain": [
       "301"
      ]
     },
     "execution_count": 4,
     "metadata": {},
     "output_type": "execute_result"
    }
   ],
   "source": [
    "#checking the number of rows\n",
    "car_dataset.shape[0]"
   ]
  },
  {
   "cell_type": "code",
   "execution_count": 5,
   "id": "187b7d26",
   "metadata": {
    "execution": {
     "iopub.execute_input": "2022-07-20T12:12:41.103614Z",
     "iopub.status.busy": "2022-07-20T12:12:41.102957Z",
     "iopub.status.idle": "2022-07-20T12:12:41.108062Z",
     "shell.execute_reply": "2022-07-20T12:12:41.107336Z"
    },
    "papermill": {
     "duration": 0.016678,
     "end_time": "2022-07-20T12:12:41.109891",
     "exception": false,
     "start_time": "2022-07-20T12:12:41.093213",
     "status": "completed"
    },
    "tags": []
   },
   "outputs": [
    {
     "data": {
      "text/plain": [
       "9"
      ]
     },
     "execution_count": 5,
     "metadata": {},
     "output_type": "execute_result"
    }
   ],
   "source": [
    "#checking the number of columns \n",
    "car_dataset.shape[1]"
   ]
  },
  {
   "cell_type": "code",
   "execution_count": 6,
   "id": "c633bb3c",
   "metadata": {
    "execution": {
     "iopub.execute_input": "2022-07-20T12:12:41.129162Z",
     "iopub.status.busy": "2022-07-20T12:12:41.128398Z",
     "iopub.status.idle": "2022-07-20T12:12:41.151462Z",
     "shell.execute_reply": "2022-07-20T12:12:41.150524Z"
    },
    "papermill": {
     "duration": 0.035921,
     "end_time": "2022-07-20T12:12:41.154151",
     "exception": false,
     "start_time": "2022-07-20T12:12:41.118230",
     "status": "completed"
    },
    "tags": []
   },
   "outputs": [
    {
     "name": "stdout",
     "output_type": "stream",
     "text": [
      "<class 'pandas.core.frame.DataFrame'>\n",
      "RangeIndex: 301 entries, 0 to 300\n",
      "Data columns (total 9 columns):\n",
      " #   Column         Non-Null Count  Dtype  \n",
      "---  ------         --------------  -----  \n",
      " 0   Car_Name       301 non-null    object \n",
      " 1   Year           301 non-null    int64  \n",
      " 2   Selling_Price  301 non-null    float64\n",
      " 3   Present_Price  301 non-null    float64\n",
      " 4   Kms_Driven     301 non-null    int64  \n",
      " 5   Fuel_Type      301 non-null    object \n",
      " 6   Seller_Type    301 non-null    object \n",
      " 7   Transmission   301 non-null    object \n",
      " 8   Owner          301 non-null    int64  \n",
      "dtypes: float64(2), int64(3), object(4)\n",
      "memory usage: 21.3+ KB\n"
     ]
    }
   ],
   "source": [
    "#Getting info about the dataset\n",
    "car_dataset.info()"
   ]
  },
  {
   "cell_type": "code",
   "execution_count": 7,
   "id": "44be2c72",
   "metadata": {
    "execution": {
     "iopub.execute_input": "2022-07-20T12:12:41.173364Z",
     "iopub.status.busy": "2022-07-20T12:12:41.172995Z",
     "iopub.status.idle": "2022-07-20T12:12:41.198771Z",
     "shell.execute_reply": "2022-07-20T12:12:41.197941Z"
    },
    "papermill": {
     "duration": 0.03786,
     "end_time": "2022-07-20T12:12:41.200694",
     "exception": false,
     "start_time": "2022-07-20T12:12:41.162834",
     "status": "completed"
    },
    "tags": []
   },
   "outputs": [
    {
     "data": {
      "text/html": [
       "<div>\n",
       "<style scoped>\n",
       "    .dataframe tbody tr th:only-of-type {\n",
       "        vertical-align: middle;\n",
       "    }\n",
       "\n",
       "    .dataframe tbody tr th {\n",
       "        vertical-align: top;\n",
       "    }\n",
       "\n",
       "    .dataframe thead th {\n",
       "        text-align: right;\n",
       "    }\n",
       "</style>\n",
       "<table border=\"1\" class=\"dataframe\">\n",
       "  <thead>\n",
       "    <tr style=\"text-align: right;\">\n",
       "      <th></th>\n",
       "      <th>Year</th>\n",
       "      <th>Selling_Price</th>\n",
       "      <th>Present_Price</th>\n",
       "      <th>Kms_Driven</th>\n",
       "      <th>Owner</th>\n",
       "    </tr>\n",
       "  </thead>\n",
       "  <tbody>\n",
       "    <tr>\n",
       "      <th>count</th>\n",
       "      <td>301.000000</td>\n",
       "      <td>301.000000</td>\n",
       "      <td>301.000000</td>\n",
       "      <td>301.000000</td>\n",
       "      <td>301.000000</td>\n",
       "    </tr>\n",
       "    <tr>\n",
       "      <th>mean</th>\n",
       "      <td>2013.627907</td>\n",
       "      <td>4.661296</td>\n",
       "      <td>7.628472</td>\n",
       "      <td>36947.205980</td>\n",
       "      <td>0.043189</td>\n",
       "    </tr>\n",
       "    <tr>\n",
       "      <th>std</th>\n",
       "      <td>2.891554</td>\n",
       "      <td>5.082812</td>\n",
       "      <td>8.644115</td>\n",
       "      <td>38886.883882</td>\n",
       "      <td>0.247915</td>\n",
       "    </tr>\n",
       "    <tr>\n",
       "      <th>min</th>\n",
       "      <td>2003.000000</td>\n",
       "      <td>0.100000</td>\n",
       "      <td>0.320000</td>\n",
       "      <td>500.000000</td>\n",
       "      <td>0.000000</td>\n",
       "    </tr>\n",
       "    <tr>\n",
       "      <th>25%</th>\n",
       "      <td>2012.000000</td>\n",
       "      <td>0.900000</td>\n",
       "      <td>1.200000</td>\n",
       "      <td>15000.000000</td>\n",
       "      <td>0.000000</td>\n",
       "    </tr>\n",
       "    <tr>\n",
       "      <th>50%</th>\n",
       "      <td>2014.000000</td>\n",
       "      <td>3.600000</td>\n",
       "      <td>6.400000</td>\n",
       "      <td>32000.000000</td>\n",
       "      <td>0.000000</td>\n",
       "    </tr>\n",
       "    <tr>\n",
       "      <th>75%</th>\n",
       "      <td>2016.000000</td>\n",
       "      <td>6.000000</td>\n",
       "      <td>9.900000</td>\n",
       "      <td>48767.000000</td>\n",
       "      <td>0.000000</td>\n",
       "    </tr>\n",
       "    <tr>\n",
       "      <th>max</th>\n",
       "      <td>2018.000000</td>\n",
       "      <td>35.000000</td>\n",
       "      <td>92.600000</td>\n",
       "      <td>500000.000000</td>\n",
       "      <td>3.000000</td>\n",
       "    </tr>\n",
       "  </tbody>\n",
       "</table>\n",
       "</div>"
      ],
      "text/plain": [
       "              Year  Selling_Price  Present_Price     Kms_Driven       Owner\n",
       "count   301.000000     301.000000     301.000000     301.000000  301.000000\n",
       "mean   2013.627907       4.661296       7.628472   36947.205980    0.043189\n",
       "std       2.891554       5.082812       8.644115   38886.883882    0.247915\n",
       "min    2003.000000       0.100000       0.320000     500.000000    0.000000\n",
       "25%    2012.000000       0.900000       1.200000   15000.000000    0.000000\n",
       "50%    2014.000000       3.600000       6.400000   32000.000000    0.000000\n",
       "75%    2016.000000       6.000000       9.900000   48767.000000    0.000000\n",
       "max    2018.000000      35.000000      92.600000  500000.000000    3.000000"
      ]
     },
     "execution_count": 7,
     "metadata": {},
     "output_type": "execute_result"
    }
   ],
   "source": [
    "#Getting descriptive statistics about the dataset\n",
    "car_dataset.describe()"
   ]
  },
  {
   "cell_type": "code",
   "execution_count": 8,
   "id": "7e8c3413",
   "metadata": {
    "execution": {
     "iopub.execute_input": "2022-07-20T12:12:41.220049Z",
     "iopub.status.busy": "2022-07-20T12:12:41.219353Z",
     "iopub.status.idle": "2022-07-20T12:12:41.227597Z",
     "shell.execute_reply": "2022-07-20T12:12:41.226716Z"
    },
    "papermill": {
     "duration": 0.020085,
     "end_time": "2022-07-20T12:12:41.229503",
     "exception": false,
     "start_time": "2022-07-20T12:12:41.209418",
     "status": "completed"
    },
    "tags": []
   },
   "outputs": [
    {
     "data": {
      "text/plain": [
       "Car_Name         0\n",
       "Year             0\n",
       "Selling_Price    0\n",
       "Present_Price    0\n",
       "Kms_Driven       0\n",
       "Fuel_Type        0\n",
       "Seller_Type      0\n",
       "Transmission     0\n",
       "Owner            0\n",
       "dtype: int64"
      ]
     },
     "execution_count": 8,
     "metadata": {},
     "output_type": "execute_result"
    }
   ],
   "source": [
    "#cheking for the number of missing values\n",
    "car_dataset.isnull().sum()"
   ]
  },
  {
   "cell_type": "markdown",
   "id": "5d129a79",
   "metadata": {
    "papermill": {
     "duration": 0.008622,
     "end_time": "2022-07-20T12:12:41.247017",
     "exception": false,
     "start_time": "2022-07-20T12:12:41.238395",
     "status": "completed"
    },
    "tags": []
   },
   "source": [
    "# Dealing with categorical data"
   ]
  },
  {
   "cell_type": "markdown",
   "id": "2a87cac8",
   "metadata": {
    "papermill": {
     "duration": 0.008511,
     "end_time": "2022-07-20T12:12:41.264324",
     "exception": false,
     "start_time": "2022-07-20T12:12:41.255813",
     "status": "completed"
    },
    "tags": []
   },
   "source": [
    "Most machine learning algorithms cannot handle categorical variables unless we convert them to numerical values"
   ]
  },
  {
   "cell_type": "code",
   "execution_count": 9,
   "id": "df69184b",
   "metadata": {
    "execution": {
     "iopub.execute_input": "2022-07-20T12:12:41.283713Z",
     "iopub.status.busy": "2022-07-20T12:12:41.283003Z",
     "iopub.status.idle": "2022-07-20T12:12:41.292909Z",
     "shell.execute_reply": "2022-07-20T12:12:41.291220Z"
    },
    "papermill": {
     "duration": 0.021864,
     "end_time": "2022-07-20T12:12:41.294952",
     "exception": false,
     "start_time": "2022-07-20T12:12:41.273088",
     "status": "completed"
    },
    "tags": []
   },
   "outputs": [
    {
     "name": "stdout",
     "output_type": "stream",
     "text": [
      "Petrol    239\n",
      "Diesel     60\n",
      "CNG         2\n",
      "Name: Fuel_Type, dtype: int64\n",
      "Dealer        195\n",
      "Individual    106\n",
      "Name: Seller_Type, dtype: int64\n",
      "Manual       261\n",
      "Automatic     40\n",
      "Name: Transmission, dtype: int64\n"
     ]
    }
   ],
   "source": [
    "#checking the distribution of categorical data\n",
    "\n",
    "print(car_dataset.Fuel_Type.value_counts())\n",
    "print(car_dataset.Seller_Type.value_counts())\n",
    "print(car_dataset.Transmission.value_counts())"
   ]
  },
  {
   "cell_type": "markdown",
   "id": "10dd59b7",
   "metadata": {
    "papermill": {
     "duration": 0.008663,
     "end_time": "2022-07-20T12:12:41.312435",
     "exception": false,
     "start_time": "2022-07-20T12:12:41.303772",
     "status": "completed"
    },
    "tags": []
   },
   "source": [
    "<h2>Encoding categorical data</h2>"
   ]
  },
  {
   "cell_type": "markdown",
   "id": "340fbe45",
   "metadata": {
    "papermill": {
     "duration": 0.008688,
     "end_time": "2022-07-20T12:12:41.330285",
     "exception": false,
     "start_time": "2022-07-20T12:12:41.321597",
     "status": "completed"
    },
    "tags": []
   },
   "source": [
    "### One hot encoding"
   ]
  },
  {
   "cell_type": "code",
   "execution_count": 10,
   "id": "fcf28c2f",
   "metadata": {
    "execution": {
     "iopub.execute_input": "2022-07-20T12:12:41.350426Z",
     "iopub.status.busy": "2022-07-20T12:12:41.350027Z",
     "iopub.status.idle": "2022-07-20T12:12:41.365634Z",
     "shell.execute_reply": "2022-07-20T12:12:41.364847Z"
    },
    "papermill": {
     "duration": 0.028339,
     "end_time": "2022-07-20T12:12:41.367911",
     "exception": false,
     "start_time": "2022-07-20T12:12:41.339572",
     "status": "completed"
    },
    "tags": []
   },
   "outputs": [],
   "source": [
    "cat_df_onehot = car_dataset.copy()\n",
    "cat_df_onehot = pd.get_dummies(cat_df_onehot, columns=['Fuel_Type'], prefix=['Fuel_Type'])\n",
    "cat_df_onehot = pd.get_dummies(cat_df_onehot, columns=['Seller_Type'], prefix=['Seller_Type'])\n",
    "cat_df_onehot = pd.get_dummies(cat_df_onehot, columns=['Transmission'], prefix=['Transmission'])"
   ]
  },
  {
   "cell_type": "code",
   "execution_count": 11,
   "id": "4b4f4784",
   "metadata": {
    "execution": {
     "iopub.execute_input": "2022-07-20T12:12:41.388406Z",
     "iopub.status.busy": "2022-07-20T12:12:41.387640Z",
     "iopub.status.idle": "2022-07-20T12:12:41.406081Z",
     "shell.execute_reply": "2022-07-20T12:12:41.404907Z"
    },
    "papermill": {
     "duration": 0.031061,
     "end_time": "2022-07-20T12:12:41.408240",
     "exception": false,
     "start_time": "2022-07-20T12:12:41.377179",
     "status": "completed"
    },
    "tags": []
   },
   "outputs": [
    {
     "data": {
      "text/html": [
       "<div>\n",
       "<style scoped>\n",
       "    .dataframe tbody tr th:only-of-type {\n",
       "        vertical-align: middle;\n",
       "    }\n",
       "\n",
       "    .dataframe tbody tr th {\n",
       "        vertical-align: top;\n",
       "    }\n",
       "\n",
       "    .dataframe thead th {\n",
       "        text-align: right;\n",
       "    }\n",
       "</style>\n",
       "<table border=\"1\" class=\"dataframe\">\n",
       "  <thead>\n",
       "    <tr style=\"text-align: right;\">\n",
       "      <th></th>\n",
       "      <th>Car_Name</th>\n",
       "      <th>Year</th>\n",
       "      <th>Selling_Price</th>\n",
       "      <th>Present_Price</th>\n",
       "      <th>Kms_Driven</th>\n",
       "      <th>Owner</th>\n",
       "      <th>Fuel_Type_CNG</th>\n",
       "      <th>Fuel_Type_Diesel</th>\n",
       "      <th>Fuel_Type_Petrol</th>\n",
       "      <th>Seller_Type_Dealer</th>\n",
       "      <th>Seller_Type_Individual</th>\n",
       "      <th>Transmission_Automatic</th>\n",
       "      <th>Transmission_Manual</th>\n",
       "    </tr>\n",
       "  </thead>\n",
       "  <tbody>\n",
       "    <tr>\n",
       "      <th>0</th>\n",
       "      <td>ritz</td>\n",
       "      <td>2014</td>\n",
       "      <td>3.35</td>\n",
       "      <td>5.59</td>\n",
       "      <td>27000</td>\n",
       "      <td>0</td>\n",
       "      <td>0</td>\n",
       "      <td>0</td>\n",
       "      <td>1</td>\n",
       "      <td>1</td>\n",
       "      <td>0</td>\n",
       "      <td>0</td>\n",
       "      <td>1</td>\n",
       "    </tr>\n",
       "    <tr>\n",
       "      <th>1</th>\n",
       "      <td>sx4</td>\n",
       "      <td>2013</td>\n",
       "      <td>4.75</td>\n",
       "      <td>9.54</td>\n",
       "      <td>43000</td>\n",
       "      <td>0</td>\n",
       "      <td>0</td>\n",
       "      <td>1</td>\n",
       "      <td>0</td>\n",
       "      <td>1</td>\n",
       "      <td>0</td>\n",
       "      <td>0</td>\n",
       "      <td>1</td>\n",
       "    </tr>\n",
       "    <tr>\n",
       "      <th>2</th>\n",
       "      <td>ciaz</td>\n",
       "      <td>2017</td>\n",
       "      <td>7.25</td>\n",
       "      <td>9.85</td>\n",
       "      <td>6900</td>\n",
       "      <td>0</td>\n",
       "      <td>0</td>\n",
       "      <td>0</td>\n",
       "      <td>1</td>\n",
       "      <td>1</td>\n",
       "      <td>0</td>\n",
       "      <td>0</td>\n",
       "      <td>1</td>\n",
       "    </tr>\n",
       "    <tr>\n",
       "      <th>3</th>\n",
       "      <td>wagon r</td>\n",
       "      <td>2011</td>\n",
       "      <td>2.85</td>\n",
       "      <td>4.15</td>\n",
       "      <td>5200</td>\n",
       "      <td>0</td>\n",
       "      <td>0</td>\n",
       "      <td>0</td>\n",
       "      <td>1</td>\n",
       "      <td>1</td>\n",
       "      <td>0</td>\n",
       "      <td>0</td>\n",
       "      <td>1</td>\n",
       "    </tr>\n",
       "    <tr>\n",
       "      <th>4</th>\n",
       "      <td>swift</td>\n",
       "      <td>2014</td>\n",
       "      <td>4.60</td>\n",
       "      <td>6.87</td>\n",
       "      <td>42450</td>\n",
       "      <td>0</td>\n",
       "      <td>0</td>\n",
       "      <td>1</td>\n",
       "      <td>0</td>\n",
       "      <td>1</td>\n",
       "      <td>0</td>\n",
       "      <td>0</td>\n",
       "      <td>1</td>\n",
       "    </tr>\n",
       "    <tr>\n",
       "      <th>...</th>\n",
       "      <td>...</td>\n",
       "      <td>...</td>\n",
       "      <td>...</td>\n",
       "      <td>...</td>\n",
       "      <td>...</td>\n",
       "      <td>...</td>\n",
       "      <td>...</td>\n",
       "      <td>...</td>\n",
       "      <td>...</td>\n",
       "      <td>...</td>\n",
       "      <td>...</td>\n",
       "      <td>...</td>\n",
       "      <td>...</td>\n",
       "    </tr>\n",
       "    <tr>\n",
       "      <th>296</th>\n",
       "      <td>city</td>\n",
       "      <td>2016</td>\n",
       "      <td>9.50</td>\n",
       "      <td>11.60</td>\n",
       "      <td>33988</td>\n",
       "      <td>0</td>\n",
       "      <td>0</td>\n",
       "      <td>1</td>\n",
       "      <td>0</td>\n",
       "      <td>1</td>\n",
       "      <td>0</td>\n",
       "      <td>0</td>\n",
       "      <td>1</td>\n",
       "    </tr>\n",
       "    <tr>\n",
       "      <th>297</th>\n",
       "      <td>brio</td>\n",
       "      <td>2015</td>\n",
       "      <td>4.00</td>\n",
       "      <td>5.90</td>\n",
       "      <td>60000</td>\n",
       "      <td>0</td>\n",
       "      <td>0</td>\n",
       "      <td>0</td>\n",
       "      <td>1</td>\n",
       "      <td>1</td>\n",
       "      <td>0</td>\n",
       "      <td>0</td>\n",
       "      <td>1</td>\n",
       "    </tr>\n",
       "    <tr>\n",
       "      <th>298</th>\n",
       "      <td>city</td>\n",
       "      <td>2009</td>\n",
       "      <td>3.35</td>\n",
       "      <td>11.00</td>\n",
       "      <td>87934</td>\n",
       "      <td>0</td>\n",
       "      <td>0</td>\n",
       "      <td>0</td>\n",
       "      <td>1</td>\n",
       "      <td>1</td>\n",
       "      <td>0</td>\n",
       "      <td>0</td>\n",
       "      <td>1</td>\n",
       "    </tr>\n",
       "    <tr>\n",
       "      <th>299</th>\n",
       "      <td>city</td>\n",
       "      <td>2017</td>\n",
       "      <td>11.50</td>\n",
       "      <td>12.50</td>\n",
       "      <td>9000</td>\n",
       "      <td>0</td>\n",
       "      <td>0</td>\n",
       "      <td>1</td>\n",
       "      <td>0</td>\n",
       "      <td>1</td>\n",
       "      <td>0</td>\n",
       "      <td>0</td>\n",
       "      <td>1</td>\n",
       "    </tr>\n",
       "    <tr>\n",
       "      <th>300</th>\n",
       "      <td>brio</td>\n",
       "      <td>2016</td>\n",
       "      <td>5.30</td>\n",
       "      <td>5.90</td>\n",
       "      <td>5464</td>\n",
       "      <td>0</td>\n",
       "      <td>0</td>\n",
       "      <td>0</td>\n",
       "      <td>1</td>\n",
       "      <td>1</td>\n",
       "      <td>0</td>\n",
       "      <td>0</td>\n",
       "      <td>1</td>\n",
       "    </tr>\n",
       "  </tbody>\n",
       "</table>\n",
       "<p>301 rows × 13 columns</p>\n",
       "</div>"
      ],
      "text/plain": [
       "    Car_Name  Year  Selling_Price  Present_Price  Kms_Driven  Owner  \\\n",
       "0       ritz  2014           3.35           5.59       27000      0   \n",
       "1        sx4  2013           4.75           9.54       43000      0   \n",
       "2       ciaz  2017           7.25           9.85        6900      0   \n",
       "3    wagon r  2011           2.85           4.15        5200      0   \n",
       "4      swift  2014           4.60           6.87       42450      0   \n",
       "..       ...   ...            ...            ...         ...    ...   \n",
       "296     city  2016           9.50          11.60       33988      0   \n",
       "297     brio  2015           4.00           5.90       60000      0   \n",
       "298     city  2009           3.35          11.00       87934      0   \n",
       "299     city  2017          11.50          12.50        9000      0   \n",
       "300     brio  2016           5.30           5.90        5464      0   \n",
       "\n",
       "     Fuel_Type_CNG  Fuel_Type_Diesel  Fuel_Type_Petrol  Seller_Type_Dealer  \\\n",
       "0                0                 0                 1                   1   \n",
       "1                0                 1                 0                   1   \n",
       "2                0                 0                 1                   1   \n",
       "3                0                 0                 1                   1   \n",
       "4                0                 1                 0                   1   \n",
       "..             ...               ...               ...                 ...   \n",
       "296              0                 1                 0                   1   \n",
       "297              0                 0                 1                   1   \n",
       "298              0                 0                 1                   1   \n",
       "299              0                 1                 0                   1   \n",
       "300              0                 0                 1                   1   \n",
       "\n",
       "     Seller_Type_Individual  Transmission_Automatic  Transmission_Manual  \n",
       "0                         0                       0                    1  \n",
       "1                         0                       0                    1  \n",
       "2                         0                       0                    1  \n",
       "3                         0                       0                    1  \n",
       "4                         0                       0                    1  \n",
       "..                      ...                     ...                  ...  \n",
       "296                       0                       0                    1  \n",
       "297                       0                       0                    1  \n",
       "298                       0                       0                    1  \n",
       "299                       0                       0                    1  \n",
       "300                       0                       0                    1  \n",
       "\n",
       "[301 rows x 13 columns]"
      ]
     },
     "execution_count": 11,
     "metadata": {},
     "output_type": "execute_result"
    }
   ],
   "source": [
    "cat_df_onehot"
   ]
  },
  {
   "cell_type": "markdown",
   "id": "b0e5c757",
   "metadata": {
    "papermill": {
     "duration": 0.009136,
     "end_time": "2022-07-20T12:12:41.426600",
     "exception": false,
     "start_time": "2022-07-20T12:12:41.417464",
     "status": "completed"
    },
    "tags": []
   },
   "source": [
    "<h2>Data and Target Split </h2>"
   ]
  },
  {
   "cell_type": "code",
   "execution_count": 12,
   "id": "13bd5935",
   "metadata": {
    "execution": {
     "iopub.execute_input": "2022-07-20T12:12:41.447713Z",
     "iopub.status.busy": "2022-07-20T12:12:41.447001Z",
     "iopub.status.idle": "2022-07-20T12:12:41.453475Z",
     "shell.execute_reply": "2022-07-20T12:12:41.452609Z"
    },
    "papermill": {
     "duration": 0.0194,
     "end_time": "2022-07-20T12:12:41.455659",
     "exception": false,
     "start_time": "2022-07-20T12:12:41.436259",
     "status": "completed"
    },
    "tags": []
   },
   "outputs": [],
   "source": [
    "X = cat_df_onehot.drop(['Car_Name', 'Selling_Price'], axis=1)\n",
    "Y = cat_df_onehot['Selling_Price']"
   ]
  },
  {
   "cell_type": "code",
   "execution_count": 13,
   "id": "7623fb21",
   "metadata": {
    "execution": {
     "iopub.execute_input": "2022-07-20T12:12:41.477997Z",
     "iopub.status.busy": "2022-07-20T12:12:41.477173Z",
     "iopub.status.idle": "2022-07-20T12:12:41.490676Z",
     "shell.execute_reply": "2022-07-20T12:12:41.488327Z"
    },
    "papermill": {
     "duration": 0.028383,
     "end_time": "2022-07-20T12:12:41.493693",
     "exception": false,
     "start_time": "2022-07-20T12:12:41.465310",
     "status": "completed"
    },
    "tags": []
   },
   "outputs": [
    {
     "name": "stdout",
     "output_type": "stream",
     "text": [
      "     Year  Present_Price  Kms_Driven  Owner  Fuel_Type_CNG  Fuel_Type_Diesel  \\\n",
      "0    2014           5.59       27000      0              0                 0   \n",
      "1    2013           9.54       43000      0              0                 1   \n",
      "2    2017           9.85        6900      0              0                 0   \n",
      "3    2011           4.15        5200      0              0                 0   \n",
      "4    2014           6.87       42450      0              0                 1   \n",
      "..    ...            ...         ...    ...            ...               ...   \n",
      "296  2016          11.60       33988      0              0                 1   \n",
      "297  2015           5.90       60000      0              0                 0   \n",
      "298  2009          11.00       87934      0              0                 0   \n",
      "299  2017          12.50        9000      0              0                 1   \n",
      "300  2016           5.90        5464      0              0                 0   \n",
      "\n",
      "     Fuel_Type_Petrol  Seller_Type_Dealer  Seller_Type_Individual  \\\n",
      "0                   1                   1                       0   \n",
      "1                   0                   1                       0   \n",
      "2                   1                   1                       0   \n",
      "3                   1                   1                       0   \n",
      "4                   0                   1                       0   \n",
      "..                ...                 ...                     ...   \n",
      "296                 0                   1                       0   \n",
      "297                 1                   1                       0   \n",
      "298                 1                   1                       0   \n",
      "299                 0                   1                       0   \n",
      "300                 1                   1                       0   \n",
      "\n",
      "     Transmission_Automatic  Transmission_Manual  \n",
      "0                         0                    1  \n",
      "1                         0                    1  \n",
      "2                         0                    1  \n",
      "3                         0                    1  \n",
      "4                         0                    1  \n",
      "..                      ...                  ...  \n",
      "296                       0                    1  \n",
      "297                       0                    1  \n",
      "298                       0                    1  \n",
      "299                       0                    1  \n",
      "300                       0                    1  \n",
      "\n",
      "[301 rows x 11 columns]\n"
     ]
    }
   ],
   "source": [
    "print(X)"
   ]
  },
  {
   "cell_type": "code",
   "execution_count": 14,
   "id": "b1cacfd5",
   "metadata": {
    "execution": {
     "iopub.execute_input": "2022-07-20T12:12:41.515563Z",
     "iopub.status.busy": "2022-07-20T12:12:41.514799Z",
     "iopub.status.idle": "2022-07-20T12:12:41.522735Z",
     "shell.execute_reply": "2022-07-20T12:12:41.521038Z"
    },
    "papermill": {
     "duration": 0.021717,
     "end_time": "2022-07-20T12:12:41.525511",
     "exception": false,
     "start_time": "2022-07-20T12:12:41.503794",
     "status": "completed"
    },
    "tags": []
   },
   "outputs": [
    {
     "name": "stdout",
     "output_type": "stream",
     "text": [
      "0       3.35\n",
      "1       4.75\n",
      "2       7.25\n",
      "3       2.85\n",
      "4       4.60\n",
      "       ...  \n",
      "296     9.50\n",
      "297     4.00\n",
      "298     3.35\n",
      "299    11.50\n",
      "300     5.30\n",
      "Name: Selling_Price, Length: 301, dtype: float64\n"
     ]
    }
   ],
   "source": [
    "print(Y)"
   ]
  },
  {
   "cell_type": "markdown",
   "id": "12ae9c2f",
   "metadata": {
    "papermill": {
     "duration": 0.009363,
     "end_time": "2022-07-20T12:12:41.544645",
     "exception": false,
     "start_time": "2022-07-20T12:12:41.535282",
     "status": "completed"
    },
    "tags": []
   },
   "source": [
    "<h2>Train and Test Split</h2>"
   ]
  },
  {
   "cell_type": "code",
   "execution_count": 15,
   "id": "a3bb12e7",
   "metadata": {
    "execution": {
     "iopub.execute_input": "2022-07-20T12:12:41.565853Z",
     "iopub.status.busy": "2022-07-20T12:12:41.565160Z",
     "iopub.status.idle": "2022-07-20T12:12:41.571741Z",
     "shell.execute_reply": "2022-07-20T12:12:41.571020Z"
    },
    "papermill": {
     "duration": 0.0196,
     "end_time": "2022-07-20T12:12:41.573784",
     "exception": false,
     "start_time": "2022-07-20T12:12:41.554184",
     "status": "completed"
    },
    "tags": []
   },
   "outputs": [],
   "source": [
    "from sklearn.model_selection import train_test_split\n",
    "X_train,X_test, Y_train,Y_test = train_test_split(X,Y, test_size=0.25,random_state=0)"
   ]
  },
  {
   "cell_type": "markdown",
   "id": "f65bd5cb",
   "metadata": {
    "papermill": {
     "duration": 0.008942,
     "end_time": "2022-07-20T12:12:41.592373",
     "exception": false,
     "start_time": "2022-07-20T12:12:41.583431",
     "status": "completed"
    },
    "tags": []
   },
   "source": [
    "<h2>Model training</h2>"
   ]
  },
  {
   "cell_type": "markdown",
   "id": "7bbb0e9e",
   "metadata": {
    "papermill": {
     "duration": 0.009589,
     "end_time": "2022-07-20T12:12:41.611964",
     "exception": false,
     "start_time": "2022-07-20T12:12:41.602375",
     "status": "completed"
    },
    "tags": []
   },
   "source": [
    "<h3>1. Linear Regression</h3>"
   ]
  },
  {
   "cell_type": "code",
   "execution_count": 16,
   "id": "ae835e7d",
   "metadata": {
    "execution": {
     "iopub.execute_input": "2022-07-20T12:12:41.633900Z",
     "iopub.status.busy": "2022-07-20T12:12:41.633156Z",
     "iopub.status.idle": "2022-07-20T12:12:41.637300Z",
     "shell.execute_reply": "2022-07-20T12:12:41.636486Z"
    },
    "papermill": {
     "duration": 0.018161,
     "end_time": "2022-07-20T12:12:41.639516",
     "exception": false,
     "start_time": "2022-07-20T12:12:41.621355",
     "status": "completed"
    },
    "tags": []
   },
   "outputs": [],
   "source": [
    "#loading model\n",
    "lin_reg_model = LinearRegression()"
   ]
  },
  {
   "cell_type": "code",
   "execution_count": 17,
   "id": "a19bf1f5",
   "metadata": {
    "execution": {
     "iopub.execute_input": "2022-07-20T12:12:41.660600Z",
     "iopub.status.busy": "2022-07-20T12:12:41.659910Z",
     "iopub.status.idle": "2022-07-20T12:12:41.684294Z",
     "shell.execute_reply": "2022-07-20T12:12:41.683431Z"
    },
    "papermill": {
     "duration": 0.037236,
     "end_time": "2022-07-20T12:12:41.686230",
     "exception": false,
     "start_time": "2022-07-20T12:12:41.648994",
     "status": "completed"
    },
    "tags": []
   },
   "outputs": [
    {
     "data": {
      "text/plain": [
       "LinearRegression()"
      ]
     },
     "execution_count": 17,
     "metadata": {},
     "output_type": "execute_result"
    }
   ],
   "source": [
    "#fitting with the model\n",
    "lin_reg_model.fit(X_train,Y_train)"
   ]
  },
  {
   "cell_type": "markdown",
   "id": "c8ae58b9",
   "metadata": {
    "papermill": {
     "duration": 0.009248,
     "end_time": "2022-07-20T12:12:41.705136",
     "exception": false,
     "start_time": "2022-07-20T12:12:41.695888",
     "status": "completed"
    },
    "tags": []
   },
   "source": [
    "<h3>Model Evalaution</h3>"
   ]
  },
  {
   "cell_type": "code",
   "execution_count": 18,
   "id": "ca42287f",
   "metadata": {
    "execution": {
     "iopub.execute_input": "2022-07-20T12:12:41.726449Z",
     "iopub.status.busy": "2022-07-20T12:12:41.725792Z",
     "iopub.status.idle": "2022-07-20T12:12:41.732635Z",
     "shell.execute_reply": "2022-07-20T12:12:41.731906Z"
    },
    "papermill": {
     "duration": 0.019827,
     "end_time": "2022-07-20T12:12:41.734657",
     "exception": false,
     "start_time": "2022-07-20T12:12:41.714830",
     "status": "completed"
    },
    "tags": []
   },
   "outputs": [],
   "source": [
    "#Prediction on training data\n",
    "training_data_prediction = lin_reg_model.predict(X_train)"
   ]
  },
  {
   "cell_type": "code",
   "execution_count": 19,
   "id": "3071250a",
   "metadata": {
    "execution": {
     "iopub.execute_input": "2022-07-20T12:12:41.756420Z",
     "iopub.status.busy": "2022-07-20T12:12:41.755774Z",
     "iopub.status.idle": "2022-07-20T12:12:41.762240Z",
     "shell.execute_reply": "2022-07-20T12:12:41.761110Z"
    },
    "papermill": {
     "duration": 0.020768,
     "end_time": "2022-07-20T12:12:41.765078",
     "exception": false,
     "start_time": "2022-07-20T12:12:41.744310",
     "status": "completed"
    },
    "tags": []
   },
   "outputs": [
    {
     "name": "stdout",
     "output_type": "stream",
     "text": [
      "R squared Error on training data:  0.8852853615776834\n"
     ]
    }
   ],
   "source": [
    "#R squared Error\n",
    "from sklearn.metrics import accuracy_score\n",
    "from sklearn import metrics\n",
    "\n",
    "error_score = metrics.r2_score(Y_train, training_data_prediction)\n",
    "print(\"R squared Error on training data: \",error_score)"
   ]
  },
  {
   "cell_type": "markdown",
   "id": "d96c27f4",
   "metadata": {
    "papermill": {
     "duration": 0.00928,
     "end_time": "2022-07-20T12:12:41.784015",
     "exception": false,
     "start_time": "2022-07-20T12:12:41.774735",
     "status": "completed"
    },
    "tags": []
   },
   "source": [
    "<h3>Visualizing Actual and Predicted Prices</h3>"
   ]
  },
  {
   "cell_type": "markdown",
   "id": "40b12716",
   "metadata": {
    "papermill": {
     "duration": 0.009416,
     "end_time": "2022-07-20T12:12:41.803029",
     "exception": false,
     "start_time": "2022-07-20T12:12:41.793613",
     "status": "completed"
    },
    "tags": []
   },
   "source": [
    "#### Training data prediction Plot"
   ]
  },
  {
   "cell_type": "code",
   "execution_count": 20,
   "id": "4d63727e",
   "metadata": {
    "execution": {
     "iopub.execute_input": "2022-07-20T12:12:41.823978Z",
     "iopub.status.busy": "2022-07-20T12:12:41.823546Z",
     "iopub.status.idle": "2022-07-20T12:12:42.041358Z",
     "shell.execute_reply": "2022-07-20T12:12:42.040060Z"
    },
    "papermill": {
     "duration": 0.231084,
     "end_time": "2022-07-20T12:12:42.043694",
     "exception": false,
     "start_time": "2022-07-20T12:12:41.812610",
     "status": "completed"
    },
    "tags": []
   },
   "outputs": [
    {
     "data": {
      "image/png": "[encoded data removed]",
      "text/plain": [
       "<Figure size 432x288 with 1 Axes>"
      ]
     },
     "metadata": {
      "needs_background": "light"
     },
     "output_type": "display_data"
    }
   ],
   "source": [
    "plt.scatter(Y_train,training_data_prediction)\n",
    "plt.xlabel(\"Actual Prices\")\n",
    "plt.ylabel(\"Predicted Price\")\n",
    "plt.title(\"Actaul Prices vs Predicted Prices\")\n",
    "plt.show()"
   ]
  },
  {
   "cell_type": "markdown",
   "id": "ec6169de",
   "metadata": {
    "papermill": {
     "duration": 0.009716,
     "end_time": "2022-07-20T12:12:42.063387",
     "exception": false,
     "start_time": "2022-07-20T12:12:42.053671",
     "status": "completed"
    },
    "tags": []
   },
   "source": [
    "                                         Now trying with test data"
   ]
  },
  {
   "cell_type": "code",
   "execution_count": 21,
   "id": "2f6ce1cd",
   "metadata": {
    "execution": {
     "iopub.execute_input": "2022-07-20T12:12:42.085549Z",
     "iopub.status.busy": "2022-07-20T12:12:42.084905Z",
     "iopub.status.idle": "2022-07-20T12:12:42.090809Z",
     "shell.execute_reply": "2022-07-20T12:12:42.089957Z"
    },
    "papermill": {
     "duration": 0.019615,
     "end_time": "2022-07-20T12:12:42.092923",
     "exception": false,
     "start_time": "2022-07-20T12:12:42.073308",
     "status": "completed"
    },
    "tags": []
   },
   "outputs": [],
   "source": [
    "#Prediction on test data\n",
    "test_data_prediction = lin_reg_model.predict(X_test)"
   ]
  },
  {
   "cell_type": "code",
   "execution_count": 22,
   "id": "0932b44d",
   "metadata": {
    "execution": {
     "iopub.execute_input": "2022-07-20T12:12:42.114782Z",
     "iopub.status.busy": "2022-07-20T12:12:42.114135Z",
     "iopub.status.idle": "2022-07-20T12:12:42.120172Z",
     "shell.execute_reply": "2022-07-20T12:12:42.118824Z"
    },
    "papermill": {
     "duration": 0.020211,
     "end_time": "2022-07-20T12:12:42.123024",
     "exception": false,
     "start_time": "2022-07-20T12:12:42.102813",
     "status": "completed"
    },
    "tags": []
   },
   "outputs": [
    {
     "name": "stdout",
     "output_type": "stream",
     "text": [
      "R squared Error on test data:  0.8639362504420427\n"
     ]
    }
   ],
   "source": [
    "#R squared Error\n",
    "error_score = metrics.r2_score(Y_test, test_data_prediction)\n",
    "print(\"R squared Error on test data: \",error_score)"
   ]
  },
  {
   "cell_type": "markdown",
   "id": "2018d1ca",
   "metadata": {
    "papermill": {
     "duration": 0.010151,
     "end_time": "2022-07-20T12:12:42.143474",
     "exception": false,
     "start_time": "2022-07-20T12:12:42.133323",
     "status": "completed"
    },
    "tags": []
   },
   "source": [
    "#### Test data prediction Plot\n"
   ]
  },
  {
   "cell_type": "code",
   "execution_count": 23,
   "id": "cf5793c9",
   "metadata": {
    "execution": {
     "iopub.execute_input": "2022-07-20T12:12:42.165230Z",
     "iopub.status.busy": "2022-07-20T12:12:42.164470Z",
     "iopub.status.idle": "2022-07-20T12:12:42.341476Z",
     "shell.execute_reply": "2022-07-20T12:12:42.340354Z"
    },
    "papermill": {
     "duration": 0.190524,
     "end_time": "2022-07-20T12:12:42.343846",
     "exception": false,
     "start_time": "2022-07-20T12:12:42.153322",
     "status": "completed"
    },
    "tags": []
   },
   "outputs": [
    {
     "data": {
      "image/png": "[encoded data removed]",
      "text/plain": [
       "<Figure size 432x288 with 1 Axes>"
      ]
     },
     "metadata": {
      "needs_background": "light"
     },
     "output_type": "display_data"
    }
   ],
   "source": [
    "plt.scatter(Y_test,test_data_prediction,color='red')\n",
    "plt.xlabel(\"Actual Prices\")\n",
    "plt.ylabel(\"Predicted Price\")\n",
    "plt.title(\"Actaul Prices vs Predicted Prices\")\n",
    "plt.show()"
   ]
  },
  {
   "cell_type": "markdown",
   "id": "3b3f3c64",
   "metadata": {
    "papermill": {
     "duration": 0.010094,
     "end_time": "2022-07-20T12:12:42.364201",
     "exception": false,
     "start_time": "2022-07-20T12:12:42.354107",
     "status": "completed"
    },
    "tags": []
   },
   "source": [
    "<h3>2. Lasso Regression</h3>"
   ]
  },
  {
   "cell_type": "code",
   "execution_count": 24,
   "id": "31dca90c",
   "metadata": {
    "execution": {
     "iopub.execute_input": "2022-07-20T12:12:42.386287Z",
     "iopub.status.busy": "2022-07-20T12:12:42.385892Z",
     "iopub.status.idle": "2022-07-20T12:12:42.390484Z",
     "shell.execute_reply": "2022-07-20T12:12:42.389695Z"
    },
    "papermill": {
     "duration": 0.017972,
     "end_time": "2022-07-20T12:12:42.392494",
     "exception": false,
     "start_time": "2022-07-20T12:12:42.374522",
     "status": "completed"
    },
    "tags": []
   },
   "outputs": [],
   "source": [
    "#loading the linear regression model\n",
    "from sklearn.linear_model import Lasso\n",
    "lass_reg_model = Lasso()"
   ]
  },
  {
   "cell_type": "code",
   "execution_count": 25,
   "id": "9bdba497",
   "metadata": {
    "execution": {
     "iopub.execute_input": "2022-07-20T12:12:42.415331Z",
     "iopub.status.busy": "2022-07-20T12:12:42.414260Z",
     "iopub.status.idle": "2022-07-20T12:12:42.425007Z",
     "shell.execute_reply": "2022-07-20T12:12:42.423979Z"
    },
    "papermill": {
     "duration": 0.024572,
     "end_time": "2022-07-20T12:12:42.427342",
     "exception": false,
     "start_time": "2022-07-20T12:12:42.402770",
     "status": "completed"
    },
    "tags": []
   },
   "outputs": [
    {
     "data": {
      "text/plain": [
       "Lasso()"
      ]
     },
     "execution_count": 25,
     "metadata": {},
     "output_type": "execute_result"
    }
   ],
   "source": [
    "lass_reg_model.fit(X_train,Y_train)"
   ]
  },
  {
   "cell_type": "markdown",
   "id": "a5adc3f2",
   "metadata": {
    "papermill": {
     "duration": 0.00986,
     "end_time": "2022-07-20T12:12:42.447339",
     "exception": false,
     "start_time": "2022-07-20T12:12:42.437479",
     "status": "completed"
    },
    "tags": []
   },
   "source": [
    "<h3>Model Evalaution</h3>"
   ]
  },
  {
   "cell_type": "code",
   "execution_count": 26,
   "id": "3b91f2c3",
   "metadata": {
    "execution": {
     "iopub.execute_input": "2022-07-20T12:12:42.469910Z",
     "iopub.status.busy": "2022-07-20T12:12:42.468744Z",
     "iopub.status.idle": "2022-07-20T12:12:42.475712Z",
     "shell.execute_reply": "2022-07-20T12:12:42.474933Z"
    },
    "papermill": {
     "duration": 0.020422,
     "end_time": "2022-07-20T12:12:42.477882",
     "exception": false,
     "start_time": "2022-07-20T12:12:42.457460",
     "status": "completed"
    },
    "tags": []
   },
   "outputs": [],
   "source": [
    "#Prediction on the training Data\n",
    "training_data_prediction = lass_reg_model.predict(X_train)"
   ]
  },
  {
   "cell_type": "code",
   "execution_count": 27,
   "id": "20014a83",
   "metadata": {
    "execution": {
     "iopub.execute_input": "2022-07-20T12:12:42.499816Z",
     "iopub.status.busy": "2022-07-20T12:12:42.499442Z",
     "iopub.status.idle": "2022-07-20T12:12:42.506808Z",
     "shell.execute_reply": "2022-07-20T12:12:42.505106Z"
    },
    "papermill": {
     "duration": 0.021917,
     "end_time": "2022-07-20T12:12:42.509975",
     "exception": false,
     "start_time": "2022-07-20T12:12:42.488058",
     "status": "completed"
    },
    "tags": []
   },
   "outputs": [
    {
     "name": "stdout",
     "output_type": "stream",
     "text": [
      "R Squared error on training :  0.8397990185794106\n"
     ]
    }
   ],
   "source": [
    "#R squared Error\n",
    "error_score = metrics.r2_score(Y_train,training_data_prediction)\n",
    "print(\"R Squared error on training : \",error_score)"
   ]
  },
  {
   "cell_type": "markdown",
   "id": "2fd521fb",
   "metadata": {
    "papermill": {
     "duration": 0.010273,
     "end_time": "2022-07-20T12:12:42.531399",
     "exception": false,
     "start_time": "2022-07-20T12:12:42.521126",
     "status": "completed"
    },
    "tags": []
   },
   "source": [
    "<h3>Visualize the Actuals Price vs Predicted Prices</h3>"
   ]
  },
  {
   "cell_type": "code",
   "execution_count": 28,
   "id": "bb563624",
   "metadata": {
    "execution": {
     "iopub.execute_input": "2022-07-20T12:12:42.554234Z",
     "iopub.status.busy": "2022-07-20T12:12:42.553210Z",
     "iopub.status.idle": "2022-07-20T12:12:42.736451Z",
     "shell.execute_reply": "2022-07-20T12:12:42.735327Z"
    },
    "papermill": {
     "duration": 0.19691,
     "end_time": "2022-07-20T12:12:42.738631",
     "exception": false,
     "start_time": "2022-07-20T12:12:42.541721",
     "status": "completed"
    },
    "tags": []
   },
   "outputs": [
    {
     "data": {
      "image/png": "[encoded data removed]",
      "text/plain": [
       "<Figure size 432x288 with 1 Axes>"
      ]
     },
     "metadata": {
      "needs_background": "light"
     },
     "output_type": "display_data"
    }
   ],
   "source": [
    "plt.scatter(Y_train,training_data_prediction)\n",
    "plt.xlabel(\"Actual Prices\")\n",
    "plt.ylabel(\"Predicted Price\")\n",
    "plt.title(\"Actaul Prices vs Predicted Prices\")\n",
    "plt.show()"
   ]
  },
  {
   "cell_type": "code",
   "execution_count": 29,
   "id": "7901e508",
   "metadata": {
    "execution": {
     "iopub.execute_input": "2022-07-20T12:12:42.761751Z",
     "iopub.status.busy": "2022-07-20T12:12:42.761136Z",
     "iopub.status.idle": "2022-07-20T12:12:42.768165Z",
     "shell.execute_reply": "2022-07-20T12:12:42.767092Z"
    },
    "papermill": {
     "duration": 0.021237,
     "end_time": "2022-07-20T12:12:42.770471",
     "exception": false,
     "start_time": "2022-07-20T12:12:42.749234",
     "status": "completed"
    },
    "tags": []
   },
   "outputs": [],
   "source": [
    "#Prediction on test data\n",
    "test_data_prediction = lass_reg_model.predict(X_test)"
   ]
  },
  {
   "cell_type": "code",
   "execution_count": 30,
   "id": "409994fd",
   "metadata": {
    "execution": {
     "iopub.execute_input": "2022-07-20T12:12:42.793223Z",
     "iopub.status.busy": "2022-07-20T12:12:42.792826Z",
     "iopub.status.idle": "2022-07-20T12:12:42.798084Z",
     "shell.execute_reply": "2022-07-20T12:12:42.797258Z"
    },
    "papermill": {
     "duration": 0.018919,
     "end_time": "2022-07-20T12:12:42.799995",
     "exception": false,
     "start_time": "2022-07-20T12:12:42.781076",
     "status": "completed"
    },
    "tags": []
   },
   "outputs": [
    {
     "name": "stdout",
     "output_type": "stream",
     "text": [
      "R squared Error on testing :  0.8146779062313625\n"
     ]
    }
   ],
   "source": [
    "#R squared Error\n",
    "error_score = metrics.r2_score(Y_test, test_data_prediction)\n",
    "print(\"R squared Error on testing : \",error_score)"
   ]
  },
  {
   "cell_type": "code",
   "execution_count": 31,
   "id": "3fc69317",
   "metadata": {
    "execution": {
     "iopub.execute_input": "2022-07-20T12:12:42.823449Z",
     "iopub.status.busy": "2022-07-20T12:12:42.822436Z",
     "iopub.status.idle": "2022-07-20T12:12:43.014350Z",
     "shell.execute_reply": "2022-07-20T12:12:43.013466Z"
    },
    "papermill": {
     "duration": 0.205784,
     "end_time": "2022-07-20T12:12:43.016486",
     "exception": false,
     "start_time": "2022-07-20T12:12:42.810702",
     "status": "completed"
    },
    "tags": []
   },
   "outputs": [
    {
     "data": {
      "image/png": "[encoded data removed]",
      "text/plain": [
       "<Figure size 432x288 with 1 Axes>"
      ]
     },
     "metadata": {
      "needs_background": "light"
     },
     "output_type": "display_data"
    }
   ],
   "source": [
    "plt.scatter(Y_test,test_data_prediction,color='red')\n",
    "plt.xlabel(\"Actual Prices\")\n",
    "plt.ylabel(\"Predicted Price\")\n",
    "plt.title(\"Actaul Prices vs Predicted Prices\")\n",
    "plt.show()"
   ]
  }
 ],
 "metadata": {
  "kernelspec": {
   "display_name": "Python 3",
   "language": "python",
   "name": "python3"
  },
  "language_info": {
   "codemirror_mode": {
    "name": "ipython",
    "version": 3
   },
   "file_extension": ".py",
   "mimetype": "text/x-python",
   "name": "python",
   "nbconvert_exporter": "python",
   "pygments_lexer": "ipython3",
   "version": "3.7.12"
  },
  "papermill": {
   "default_parameters": {},
   "duration": 12.389287,
   "end_time": "2022-07-20T12:12:43.748477",
   "environment_variables": {},
   "exception": null,
   "input_path": "__notebook__.ipynb",
   "output_path": "__notebook__.ipynb",
   "parameters": {},
   "start_time": "2022-07-20T12:12:31.359190",
   "version": "2.3.4"
  }
 },
 "nbformat": 4,
 "nbformat_minor": 5
}
